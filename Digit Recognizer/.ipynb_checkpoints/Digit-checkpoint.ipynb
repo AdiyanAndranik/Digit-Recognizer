{
 "cells": [
  {
   "cell_type": "code",
   "execution_count": 179,
   "id": "8d7198fc-67db-4415-9c6b-57b816669ee3",
   "metadata": {},
   "outputs": [],
   "source": [
    "import numpy as np\n",
    "import pandas as pd\n",
    "import matplotlib.pyplot as plt\n",
    "import seaborn as sns"
   ]
  },
  {
   "cell_type": "code",
   "execution_count": 180,
   "id": "41da4b8c-2830-45e1-9dd2-0c60c62e1591",
   "metadata": {},
   "outputs": [],
   "source": [
    "df_train = pd.read_csv('train.csv')\n",
    "df_test = pd.read_csv('test.csv')"
   ]
  },
  {
   "cell_type": "code",
   "execution_count": 181,
   "id": "333c1a9c-0bae-45f1-be9d-6dbd477ef6d8",
   "metadata": {},
   "outputs": [
    {
     "data": {
      "text/html": [
       "<div>\n",
       "<style scoped>\n",
       "    .dataframe tbody tr th:only-of-type {\n",
       "        vertical-align: middle;\n",
       "    }\n",
       "\n",
       "    .dataframe tbody tr th {\n",
       "        vertical-align: top;\n",
       "    }\n",
       "\n",
       "    .dataframe thead th {\n",
       "        text-align: right;\n",
       "    }\n",
       "</style>\n",
       "<table border=\"1\" class=\"dataframe\">\n",
       "  <thead>\n",
       "    <tr style=\"text-align: right;\">\n",
       "      <th></th>\n",
       "      <th>label</th>\n",
       "      <th>pixel0</th>\n",
       "      <th>pixel1</th>\n",
       "      <th>pixel2</th>\n",
       "      <th>pixel3</th>\n",
       "      <th>pixel4</th>\n",
       "      <th>pixel5</th>\n",
       "      <th>pixel6</th>\n",
       "      <th>pixel7</th>\n",
       "      <th>pixel8</th>\n",
       "      <th>...</th>\n",
       "      <th>pixel774</th>\n",
       "      <th>pixel775</th>\n",
       "      <th>pixel776</th>\n",
       "      <th>pixel777</th>\n",
       "      <th>pixel778</th>\n",
       "      <th>pixel779</th>\n",
       "      <th>pixel780</th>\n",
       "      <th>pixel781</th>\n",
       "      <th>pixel782</th>\n",
       "      <th>pixel783</th>\n",
       "    </tr>\n",
       "  </thead>\n",
       "  <tbody>\n",
       "    <tr>\n",
       "      <th>0</th>\n",
       "      <td>1</td>\n",
       "      <td>0</td>\n",
       "      <td>0</td>\n",
       "      <td>0</td>\n",
       "      <td>0</td>\n",
       "      <td>0</td>\n",
       "      <td>0</td>\n",
       "      <td>0</td>\n",
       "      <td>0</td>\n",
       "      <td>0</td>\n",
       "      <td>...</td>\n",
       "      <td>0</td>\n",
       "      <td>0</td>\n",
       "      <td>0</td>\n",
       "      <td>0</td>\n",
       "      <td>0</td>\n",
       "      <td>0</td>\n",
       "      <td>0</td>\n",
       "      <td>0</td>\n",
       "      <td>0</td>\n",
       "      <td>0</td>\n",
       "    </tr>\n",
       "    <tr>\n",
       "      <th>1</th>\n",
       "      <td>0</td>\n",
       "      <td>0</td>\n",
       "      <td>0</td>\n",
       "      <td>0</td>\n",
       "      <td>0</td>\n",
       "      <td>0</td>\n",
       "      <td>0</td>\n",
       "      <td>0</td>\n",
       "      <td>0</td>\n",
       "      <td>0</td>\n",
       "      <td>...</td>\n",
       "      <td>0</td>\n",
       "      <td>0</td>\n",
       "      <td>0</td>\n",
       "      <td>0</td>\n",
       "      <td>0</td>\n",
       "      <td>0</td>\n",
       "      <td>0</td>\n",
       "      <td>0</td>\n",
       "      <td>0</td>\n",
       "      <td>0</td>\n",
       "    </tr>\n",
       "    <tr>\n",
       "      <th>2</th>\n",
       "      <td>1</td>\n",
       "      <td>0</td>\n",
       "      <td>0</td>\n",
       "      <td>0</td>\n",
       "      <td>0</td>\n",
       "      <td>0</td>\n",
       "      <td>0</td>\n",
       "      <td>0</td>\n",
       "      <td>0</td>\n",
       "      <td>0</td>\n",
       "      <td>...</td>\n",
       "      <td>0</td>\n",
       "      <td>0</td>\n",
       "      <td>0</td>\n",
       "      <td>0</td>\n",
       "      <td>0</td>\n",
       "      <td>0</td>\n",
       "      <td>0</td>\n",
       "      <td>0</td>\n",
       "      <td>0</td>\n",
       "      <td>0</td>\n",
       "    </tr>\n",
       "    <tr>\n",
       "      <th>3</th>\n",
       "      <td>4</td>\n",
       "      <td>0</td>\n",
       "      <td>0</td>\n",
       "      <td>0</td>\n",
       "      <td>0</td>\n",
       "      <td>0</td>\n",
       "      <td>0</td>\n",
       "      <td>0</td>\n",
       "      <td>0</td>\n",
       "      <td>0</td>\n",
       "      <td>...</td>\n",
       "      <td>0</td>\n",
       "      <td>0</td>\n",
       "      <td>0</td>\n",
       "      <td>0</td>\n",
       "      <td>0</td>\n",
       "      <td>0</td>\n",
       "      <td>0</td>\n",
       "      <td>0</td>\n",
       "      <td>0</td>\n",
       "      <td>0</td>\n",
       "    </tr>\n",
       "    <tr>\n",
       "      <th>4</th>\n",
       "      <td>0</td>\n",
       "      <td>0</td>\n",
       "      <td>0</td>\n",
       "      <td>0</td>\n",
       "      <td>0</td>\n",
       "      <td>0</td>\n",
       "      <td>0</td>\n",
       "      <td>0</td>\n",
       "      <td>0</td>\n",
       "      <td>0</td>\n",
       "      <td>...</td>\n",
       "      <td>0</td>\n",
       "      <td>0</td>\n",
       "      <td>0</td>\n",
       "      <td>0</td>\n",
       "      <td>0</td>\n",
       "      <td>0</td>\n",
       "      <td>0</td>\n",
       "      <td>0</td>\n",
       "      <td>0</td>\n",
       "      <td>0</td>\n",
       "    </tr>\n",
       "    <tr>\n",
       "      <th>...</th>\n",
       "      <td>...</td>\n",
       "      <td>...</td>\n",
       "      <td>...</td>\n",
       "      <td>...</td>\n",
       "      <td>...</td>\n",
       "      <td>...</td>\n",
       "      <td>...</td>\n",
       "      <td>...</td>\n",
       "      <td>...</td>\n",
       "      <td>...</td>\n",
       "      <td>...</td>\n",
       "      <td>...</td>\n",
       "      <td>...</td>\n",
       "      <td>...</td>\n",
       "      <td>...</td>\n",
       "      <td>...</td>\n",
       "      <td>...</td>\n",
       "      <td>...</td>\n",
       "      <td>...</td>\n",
       "      <td>...</td>\n",
       "      <td>...</td>\n",
       "    </tr>\n",
       "    <tr>\n",
       "      <th>41995</th>\n",
       "      <td>0</td>\n",
       "      <td>0</td>\n",
       "      <td>0</td>\n",
       "      <td>0</td>\n",
       "      <td>0</td>\n",
       "      <td>0</td>\n",
       "      <td>0</td>\n",
       "      <td>0</td>\n",
       "      <td>0</td>\n",
       "      <td>0</td>\n",
       "      <td>...</td>\n",
       "      <td>0</td>\n",
       "      <td>0</td>\n",
       "      <td>0</td>\n",
       "      <td>0</td>\n",
       "      <td>0</td>\n",
       "      <td>0</td>\n",
       "      <td>0</td>\n",
       "      <td>0</td>\n",
       "      <td>0</td>\n",
       "      <td>0</td>\n",
       "    </tr>\n",
       "    <tr>\n",
       "      <th>41996</th>\n",
       "      <td>1</td>\n",
       "      <td>0</td>\n",
       "      <td>0</td>\n",
       "      <td>0</td>\n",
       "      <td>0</td>\n",
       "      <td>0</td>\n",
       "      <td>0</td>\n",
       "      <td>0</td>\n",
       "      <td>0</td>\n",
       "      <td>0</td>\n",
       "      <td>...</td>\n",
       "      <td>0</td>\n",
       "      <td>0</td>\n",
       "      <td>0</td>\n",
       "      <td>0</td>\n",
       "      <td>0</td>\n",
       "      <td>0</td>\n",
       "      <td>0</td>\n",
       "      <td>0</td>\n",
       "      <td>0</td>\n",
       "      <td>0</td>\n",
       "    </tr>\n",
       "    <tr>\n",
       "      <th>41997</th>\n",
       "      <td>7</td>\n",
       "      <td>0</td>\n",
       "      <td>0</td>\n",
       "      <td>0</td>\n",
       "      <td>0</td>\n",
       "      <td>0</td>\n",
       "      <td>0</td>\n",
       "      <td>0</td>\n",
       "      <td>0</td>\n",
       "      <td>0</td>\n",
       "      <td>...</td>\n",
       "      <td>0</td>\n",
       "      <td>0</td>\n",
       "      <td>0</td>\n",
       "      <td>0</td>\n",
       "      <td>0</td>\n",
       "      <td>0</td>\n",
       "      <td>0</td>\n",
       "      <td>0</td>\n",
       "      <td>0</td>\n",
       "      <td>0</td>\n",
       "    </tr>\n",
       "    <tr>\n",
       "      <th>41998</th>\n",
       "      <td>6</td>\n",
       "      <td>0</td>\n",
       "      <td>0</td>\n",
       "      <td>0</td>\n",
       "      <td>0</td>\n",
       "      <td>0</td>\n",
       "      <td>0</td>\n",
       "      <td>0</td>\n",
       "      <td>0</td>\n",
       "      <td>0</td>\n",
       "      <td>...</td>\n",
       "      <td>0</td>\n",
       "      <td>0</td>\n",
       "      <td>0</td>\n",
       "      <td>0</td>\n",
       "      <td>0</td>\n",
       "      <td>0</td>\n",
       "      <td>0</td>\n",
       "      <td>0</td>\n",
       "      <td>0</td>\n",
       "      <td>0</td>\n",
       "    </tr>\n",
       "    <tr>\n",
       "      <th>41999</th>\n",
       "      <td>9</td>\n",
       "      <td>0</td>\n",
       "      <td>0</td>\n",
       "      <td>0</td>\n",
       "      <td>0</td>\n",
       "      <td>0</td>\n",
       "      <td>0</td>\n",
       "      <td>0</td>\n",
       "      <td>0</td>\n",
       "      <td>0</td>\n",
       "      <td>...</td>\n",
       "      <td>0</td>\n",
       "      <td>0</td>\n",
       "      <td>0</td>\n",
       "      <td>0</td>\n",
       "      <td>0</td>\n",
       "      <td>0</td>\n",
       "      <td>0</td>\n",
       "      <td>0</td>\n",
       "      <td>0</td>\n",
       "      <td>0</td>\n",
       "    </tr>\n",
       "  </tbody>\n",
       "</table>\n",
       "<p>42000 rows × 785 columns</p>\n",
       "</div>"
      ],
      "text/plain": [
       "       label  pixel0  pixel1  pixel2  pixel3  pixel4  pixel5  pixel6  pixel7   \n",
       "0          1       0       0       0       0       0       0       0       0  \\\n",
       "1          0       0       0       0       0       0       0       0       0   \n",
       "2          1       0       0       0       0       0       0       0       0   \n",
       "3          4       0       0       0       0       0       0       0       0   \n",
       "4          0       0       0       0       0       0       0       0       0   \n",
       "...      ...     ...     ...     ...     ...     ...     ...     ...     ...   \n",
       "41995      0       0       0       0       0       0       0       0       0   \n",
       "41996      1       0       0       0       0       0       0       0       0   \n",
       "41997      7       0       0       0       0       0       0       0       0   \n",
       "41998      6       0       0       0       0       0       0       0       0   \n",
       "41999      9       0       0       0       0       0       0       0       0   \n",
       "\n",
       "       pixel8  ...  pixel774  pixel775  pixel776  pixel777  pixel778   \n",
       "0           0  ...         0         0         0         0         0  \\\n",
       "1           0  ...         0         0         0         0         0   \n",
       "2           0  ...         0         0         0         0         0   \n",
       "3           0  ...         0         0         0         0         0   \n",
       "4           0  ...         0         0         0         0         0   \n",
       "...       ...  ...       ...       ...       ...       ...       ...   \n",
       "41995       0  ...         0         0         0         0         0   \n",
       "41996       0  ...         0         0         0         0         0   \n",
       "41997       0  ...         0         0         0         0         0   \n",
       "41998       0  ...         0         0         0         0         0   \n",
       "41999       0  ...         0         0         0         0         0   \n",
       "\n",
       "       pixel779  pixel780  pixel781  pixel782  pixel783  \n",
       "0             0         0         0         0         0  \n",
       "1             0         0         0         0         0  \n",
       "2             0         0         0         0         0  \n",
       "3             0         0         0         0         0  \n",
       "4             0         0         0         0         0  \n",
       "...         ...       ...       ...       ...       ...  \n",
       "41995         0         0         0         0         0  \n",
       "41996         0         0         0         0         0  \n",
       "41997         0         0         0         0         0  \n",
       "41998         0         0         0         0         0  \n",
       "41999         0         0         0         0         0  \n",
       "\n",
       "[42000 rows x 785 columns]"
      ]
     },
     "execution_count": 181,
     "metadata": {},
     "output_type": "execute_result"
    }
   ],
   "source": [
    "df_train"
   ]
  },
  {
   "cell_type": "code",
   "execution_count": 182,
   "id": "acd0e341-3f1e-44f1-b176-6a17e401f912",
   "metadata": {},
   "outputs": [],
   "source": [
    "tiv_1 = df_train.iloc[0][1:]"
   ]
  },
  {
   "cell_type": "code",
   "execution_count": 183,
   "id": "a62fab73-cdae-4d12-892f-ef33c6d8ac6d",
   "metadata": {},
   "outputs": [
    {
     "data": {
      "text/plain": [
       "array([5.29150262, 5.29150262])"
      ]
     },
     "execution_count": 183,
     "metadata": {},
     "output_type": "execute_result"
    }
   ],
   "source": [
    "np.sqrt(arr.shape)"
   ]
  },
  {
   "cell_type": "code",
   "execution_count": 184,
   "id": "36a7ad62-3af9-484b-8cbf-f81c8173d7c6",
   "metadata": {},
   "outputs": [],
   "source": [
    "arr = tiv_1.values"
   ]
  },
  {
   "cell_type": "code",
   "execution_count": 185,
   "id": "d90e3476-df97-4de4-b1d3-b89c182933f7",
   "metadata": {},
   "outputs": [],
   "source": [
    "arr = arr.reshape(28, 28)"
   ]
  },
  {
   "cell_type": "code",
   "execution_count": 186,
   "id": "bb97ba04-9ee0-4313-be06-e819f6ec760d",
   "metadata": {},
   "outputs": [
    {
     "data": {
      "text/plain": [
       "array([[  0,   0,   0,   0,   0,   0,   0,   0,   0,   0,   0,   0,   0,\n",
       "          0,   0,   0,   0,   0,   0,   0,   0,   0,   0,   0,   0,   0,\n",
       "          0,   0],\n",
       "       [  0,   0,   0,   0,   0,   0,   0,   0,   0,   0,   0,   0,   0,\n",
       "          0,   0,   0,   0,   0,   0,   0,   0,   0,   0,   0,   0,   0,\n",
       "          0,   0],\n",
       "       [  0,   0,   0,   0,   0,   0,   0,   0,   0,   0,   0,   0,   0,\n",
       "          0,   0,   0,   0,   0,   0,   0,   0,   0,   0,   0,   0,   0,\n",
       "          0,   0],\n",
       "       [  0,   0,   0,   0,   0,   0,   0,   0,   0,   0,   0,   0,   0,\n",
       "          0,   0,   0,   0,   0,   0,   0,   0,   0,   0,   0,   0,   0,\n",
       "          0,   0],\n",
       "       [  0,   0,   0,   0,   0,   0,   0,   0,   0,   0,   0,   0,   0,\n",
       "          0,   0,   0,   0,   0,   0,   0, 188, 255,  94,   0,   0,   0,\n",
       "          0,   0],\n",
       "       [  0,   0,   0,   0,   0,   0,   0,   0,   0,   0,   0,   0,   0,\n",
       "          0,   0,   0,   0,   0,   0, 191, 250, 253,  93,   0,   0,   0,\n",
       "          0,   0],\n",
       "       [  0,   0,   0,   0,   0,   0,   0,   0,   0,   0,   0,   0,   0,\n",
       "          0,   0,   0,   0,   0, 123, 248, 253, 167,  10,   0,   0,   0,\n",
       "          0,   0],\n",
       "       [  0,   0,   0,   0,   0,   0,   0,   0,   0,   0,   0,   0,   0,\n",
       "          0,   0,   0,   0,  80, 247, 253, 208,  13,   0,   0,   0,   0,\n",
       "          0,   0],\n",
       "       [  0,   0,   0,   0,   0,   0,   0,   0,   0,   0,   0,   0,   0,\n",
       "          0,   0,   0,  29, 207, 253, 235,  77,   0,   0,   0,   0,   0,\n",
       "          0,   0],\n",
       "       [  0,   0,   0,   0,   0,   0,   0,   0,   0,   0,   0,   0,   0,\n",
       "          0,   0,  54, 209, 253, 253,  88,   0,   0,   0,   0,   0,   0,\n",
       "          0,   0],\n",
       "       [  0,   0,   0,   0,   0,   0,   0,   0,   0,   0,   0,   0,   0,\n",
       "          0,  93, 254, 253, 238, 170,  17,   0,   0,   0,   0,   0,   0,\n",
       "          0,   0],\n",
       "       [  0,   0,   0,   0,   0,   0,   0,   0,   0,   0,   0,   0,   0,\n",
       "         23, 210, 254, 253, 159,   0,   0,   0,   0,   0,   0,   0,   0,\n",
       "          0,   0],\n",
       "       [  0,   0,   0,   0,   0,   0,   0,   0,   0,   0,   0,   0,  16,\n",
       "        209, 253, 254, 240,  81,   0,   0,   0,   0,   0,   0,   0,   0,\n",
       "          0,   0],\n",
       "       [  0,   0,   0,   0,   0,   0,   0,   0,   0,   0,   0,   0,  27,\n",
       "        253, 253, 254,  13,   0,   0,   0,   0,   0,   0,   0,   0,   0,\n",
       "          0,   0],\n",
       "       [  0,   0,   0,   0,   0,   0,   0,   0,   0,   0,   0,  20, 206,\n",
       "        254, 254, 198,   7,   0,   0,   0,   0,   0,   0,   0,   0,   0,\n",
       "          0,   0],\n",
       "       [  0,   0,   0,   0,   0,   0,   0,   0,   0,   0,   0, 168, 253,\n",
       "        253, 196,   7,   0,   0,   0,   0,   0,   0,   0,   0,   0,   0,\n",
       "          0,   0],\n",
       "       [  0,   0,   0,   0,   0,   0,   0,   0,   0,   0,  20, 203, 253,\n",
       "        248,  76,   0,   0,   0,   0,   0,   0,   0,   0,   0,   0,   0,\n",
       "          0,   0],\n",
       "       [  0,   0,   0,   0,   0,   0,   0,   0,   0,  22, 188, 253, 245,\n",
       "         93,   0,   0,   0,   0,   0,   0,   0,   0,   0,   0,   0,   0,\n",
       "          0,   0],\n",
       "       [  0,   0,   0,   0,   0,   0,   0,   0,   0, 103, 253, 253, 191,\n",
       "          0,   0,   0,   0,   0,   0,   0,   0,   0,   0,   0,   0,   0,\n",
       "          0,   0],\n",
       "       [  0,   0,   0,   0,   0,   0,   0,   0,  89, 240, 253, 195,  25,\n",
       "          0,   0,   0,   0,   0,   0,   0,   0,   0,   0,   0,   0,   0,\n",
       "          0,   0],\n",
       "       [  0,   0,   0,   0,   0,   0,   0,  15, 220, 253, 253,  80,   0,\n",
       "          0,   0,   0,   0,   0,   0,   0,   0,   0,   0,   0,   0,   0,\n",
       "          0,   0],\n",
       "       [  0,   0,   0,   0,   0,   0,   0,  94, 253, 253, 253,  94,   0,\n",
       "          0,   0,   0,   0,   0,   0,   0,   0,   0,   0,   0,   0,   0,\n",
       "          0,   0],\n",
       "       [  0,   0,   0,   0,   0,   0,   0,  89, 251, 253, 250, 131,   0,\n",
       "          0,   0,   0,   0,   0,   0,   0,   0,   0,   0,   0,   0,   0,\n",
       "          0,   0],\n",
       "       [  0,   0,   0,   0,   0,   0,   0,   0, 214, 218,  95,   0,   0,\n",
       "          0,   0,   0,   0,   0,   0,   0,   0,   0,   0,   0,   0,   0,\n",
       "          0,   0],\n",
       "       [  0,   0,   0,   0,   0,   0,   0,   0,   0,   0,   0,   0,   0,\n",
       "          0,   0,   0,   0,   0,   0,   0,   0,   0,   0,   0,   0,   0,\n",
       "          0,   0],\n",
       "       [  0,   0,   0,   0,   0,   0,   0,   0,   0,   0,   0,   0,   0,\n",
       "          0,   0,   0,   0,   0,   0,   0,   0,   0,   0,   0,   0,   0,\n",
       "          0,   0],\n",
       "       [  0,   0,   0,   0,   0,   0,   0,   0,   0,   0,   0,   0,   0,\n",
       "          0,   0,   0,   0,   0,   0,   0,   0,   0,   0,   0,   0,   0,\n",
       "          0,   0],\n",
       "       [  0,   0,   0,   0,   0,   0,   0,   0,   0,   0,   0,   0,   0,\n",
       "          0,   0,   0,   0,   0,   0,   0,   0,   0,   0,   0,   0,   0,\n",
       "          0,   0]], dtype=int64)"
      ]
     },
     "execution_count": 186,
     "metadata": {},
     "output_type": "execute_result"
    }
   ],
   "source": [
    "arr"
   ]
  },
  {
   "cell_type": "code",
   "execution_count": 187,
   "id": "2998ca1f-0af8-4625-9df9-0de638dd34a5",
   "metadata": {},
   "outputs": [
    {
     "data": {
      "text/plain": [
       "<matplotlib.image.AxesImage at 0x23e301069e0>"
      ]
     },
     "execution_count": 187,
     "metadata": {},
     "output_type": "execute_result"
    },
    {
     "data": {
      "image/png": "[encoded data removed]",
      "text/plain": [
       "<Figure size 640x480 with 1 Axes>"
      ]
     },
     "metadata": {},
     "output_type": "display_data"
    }
   ],
   "source": [
    "plt.imshow(arr)"
   ]
  },
  {
   "cell_type": "code",
   "execution_count": 188,
   "id": "aaa21a52-9f29-4354-897c-b54f20123d0d",
   "metadata": {},
   "outputs": [],
   "source": [
    "X_train = df_train.drop('label', axis = 1)\n",
    "y_train = df_train['label']\n",
    "X_test = df_test"
   ]
  },
  {
   "cell_type": "code",
   "execution_count": 189,
   "id": "579af114-e821-4c99-b5b2-fe887ca441a3",
   "metadata": {},
   "outputs": [],
   "source": [
    "import tensorflow as tf\n",
    "from tensorflow import keras\n",
    "from keras.layers import Dense\n",
    "from keras.models import Sequential"
   ]
  },
  {
   "cell_type": "code",
   "execution_count": 197,
   "id": "0dd7238e-bb6a-4fa2-a4ab-3ffd09fdccb4",
   "metadata": {},
   "outputs": [],
   "source": [
    "model = Sequential()\n",
    "model.add(Dense(units = 784, activation = 'relu', input_dim = 784)),\n",
    "model.add(Dense(units = 16, activation = 'relu')),\n",
    "model.add(Dense(units = 16, activation = 'relu')),\n",
    "model.add(Dense(units = 10, activation = 'softmax'))\n",
    "model.compile(optimizer = 'rmsprop', loss = 'mae', metrics = [tf.keras.metrics.SparseCategoricalAccuracy()])"
   ]
  },
  {
   "cell_type": "code",
   "execution_count": 198,
   "id": "88150460-9f17-4215-9d29-1d532fd97f5e",
   "metadata": {},
   "outputs": [
    {
     "name": "stdout",
     "output_type": "stream",
     "text": [
      "Epoch 1/10\n",
      "1313/1313 [==============================] - 4s 3ms/step - loss: 4.3763 - sparse_categorical_accuracy: 0.0759\n",
      "Epoch 2/10\n",
      "1313/1313 [==============================] - 4s 3ms/step - loss: 4.3763 - sparse_categorical_accuracy: 0.0758\n",
      "Epoch 3/10\n",
      "1313/1313 [==============================] - 4s 3ms/step - loss: 4.3763 - sparse_categorical_accuracy: 0.0758\n",
      "Epoch 4/10\n",
      "1313/1313 [==============================] - 4s 3ms/step - loss: 4.3763 - sparse_categorical_accuracy: 0.0757\n",
      "Epoch 5/10\n",
      "1313/1313 [==============================] - 4s 3ms/step - loss: 4.3763 - sparse_categorical_accuracy: 0.0756\n",
      "Epoch 6/10\n",
      "1313/1313 [==============================] - 4s 3ms/step - loss: 4.3763 - sparse_categorical_accuracy: 0.0755\n",
      "Epoch 7/10\n",
      "1313/1313 [==============================] - 4s 3ms/step - loss: 4.3763 - sparse_categorical_accuracy: 0.0755\n",
      "Epoch 8/10\n",
      "1313/1313 [==============================] - 4s 3ms/step - loss: 4.3763 - sparse_categorical_accuracy: 0.0755\n",
      "Epoch 9/10\n",
      "1313/1313 [==============================] - 4s 3ms/step - loss: 4.3763 - sparse_categorical_accuracy: 0.0754\n",
      "Epoch 10/10\n",
      "1313/1313 [==============================] - 4s 3ms/step - loss: 4.3763 - sparse_categorical_accuracy: 0.0753\n"
     ]
    },
    {
     "data": {
      "text/plain": [
       "<keras.src.callbacks.History at 0x23e47bd2620>"
      ]
     },
     "execution_count": 198,
     "metadata": {},
     "output_type": "execute_result"
    }
   ],
   "source": [
    "model.fit(X_train, y_train, epochs=10)"
   ]
  },
  {
   "cell_type": "code",
   "execution_count": 43,
   "id": "463f4d78-b4df-46da-ae35-26dcebc40549",
   "metadata": {},
   "outputs": [
    {
     "name": "stdout",
     "output_type": "stream",
     "text": [
      "875/875 [==============================] - 1s 1ms/step\n"
     ]
    }
   ],
   "source": [
    "y_pred = model.predict(X_test)"
   ]
  },
  {
   "cell_type": "code",
   "execution_count": 52,
   "id": "a3648340-aceb-4d7c-89e1-6b2520a7398f",
   "metadata": {},
   "outputs": [
    {
     "name": "stdout",
     "output_type": "stream",
     "text": [
      "875/875 [==============================] - 1s 1ms/step\n"
     ]
    }
   ],
   "source": [
    "y_pred = model.predict(df_test)"
   ]
  },
  {
   "cell_type": "code",
   "execution_count": 50,
   "id": "f54dd2fc-1375-400d-9f76-2a3457c04d03",
   "metadata": {},
   "outputs": [],
   "source": [
    "sub = pd.read_csv('sample_submission.csv')"
   ]
  },
  {
   "cell_type": "code",
   "execution_count": 51,
   "id": "1919bcd5-0e31-43c4-afab-ee4f3c350ebf",
   "metadata": {},
   "outputs": [
    {
     "data": {
      "text/html": [
       "<div>\n",
       "<style scoped>\n",
       "    .dataframe tbody tr th:only-of-type {\n",
       "        vertical-align: middle;\n",
       "    }\n",
       "\n",
       "    .dataframe tbody tr th {\n",
       "        vertical-align: top;\n",
       "    }\n",
       "\n",
       "    .dataframe thead th {\n",
       "        text-align: right;\n",
       "    }\n",
       "</style>\n",
       "<table border=\"1\" class=\"dataframe\">\n",
       "  <thead>\n",
       "    <tr style=\"text-align: right;\">\n",
       "      <th></th>\n",
       "      <th>ImageId</th>\n",
       "      <th>Label</th>\n",
       "    </tr>\n",
       "  </thead>\n",
       "  <tbody>\n",
       "    <tr>\n",
       "      <th>0</th>\n",
       "      <td>1</td>\n",
       "      <td>0</td>\n",
       "    </tr>\n",
       "    <tr>\n",
       "      <th>1</th>\n",
       "      <td>2</td>\n",
       "      <td>0</td>\n",
       "    </tr>\n",
       "    <tr>\n",
       "      <th>2</th>\n",
       "      <td>3</td>\n",
       "      <td>0</td>\n",
       "    </tr>\n",
       "    <tr>\n",
       "      <th>3</th>\n",
       "      <td>4</td>\n",
       "      <td>0</td>\n",
       "    </tr>\n",
       "    <tr>\n",
       "      <th>4</th>\n",
       "      <td>5</td>\n",
       "      <td>0</td>\n",
       "    </tr>\n",
       "    <tr>\n",
       "      <th>...</th>\n",
       "      <td>...</td>\n",
       "      <td>...</td>\n",
       "    </tr>\n",
       "    <tr>\n",
       "      <th>27995</th>\n",
       "      <td>27996</td>\n",
       "      <td>0</td>\n",
       "    </tr>\n",
       "    <tr>\n",
       "      <th>27996</th>\n",
       "      <td>27997</td>\n",
       "      <td>0</td>\n",
       "    </tr>\n",
       "    <tr>\n",
       "      <th>27997</th>\n",
       "      <td>27998</td>\n",
       "      <td>0</td>\n",
       "    </tr>\n",
       "    <tr>\n",
       "      <th>27998</th>\n",
       "      <td>27999</td>\n",
       "      <td>0</td>\n",
       "    </tr>\n",
       "    <tr>\n",
       "      <th>27999</th>\n",
       "      <td>28000</td>\n",
       "      <td>0</td>\n",
       "    </tr>\n",
       "  </tbody>\n",
       "</table>\n",
       "<p>28000 rows × 2 columns</p>\n",
       "</div>"
      ],
      "text/plain": [
       "       ImageId  Label\n",
       "0            1      0\n",
       "1            2      0\n",
       "2            3      0\n",
       "3            4      0\n",
       "4            5      0\n",
       "...        ...    ...\n",
       "27995    27996      0\n",
       "27996    27997      0\n",
       "27997    27998      0\n",
       "27998    27999      0\n",
       "27999    28000      0\n",
       "\n",
       "[28000 rows x 2 columns]"
      ]
     },
     "execution_count": 51,
     "metadata": {},
     "output_type": "execute_result"
    }
   ],
   "source": [
    "sub"
   ]
  },
  {
   "cell_type": "code",
   "execution_count": 53,
   "id": "f7ac1838-a5a7-48f1-bffb-84da453eca22",
   "metadata": {},
   "outputs": [],
   "source": [
    "sub['Label'] = y_pred"
   ]
  },
  {
   "cell_type": "code",
   "execution_count": 54,
   "id": "92f8f2e1-7089-4e08-81c3-2cd491b40006",
   "metadata": {},
   "outputs": [],
   "source": [
    "sub.to_csv('sub.csv', index=False, index_label=False)"
   ]
  },
  {
   "cell_type": "markdown",
   "id": "23656c6b-baf2-43b0-8eda-7a9b60ad3f99",
   "metadata": {},
   "source": [
    "# New"
   ]
  },
  {
   "cell_type": "code",
   "execution_count": 135,
   "id": "69c7ebeb-3ca1-492f-9f2a-b4151a04e117",
   "metadata": {},
   "outputs": [],
   "source": [
    "import numpy as np \n",
    "import matplotlib.pyplot as plt\n",
    "%matplotlib inline\n",
    "import tensorflow as tf\n",
    "import pandas as pd\n",
    "from sklearn.model_selection import train_test_split\n",
    "from sklearn.metrics import confusion_matrix"
   ]
  },
  {
   "cell_type": "code",
   "execution_count": 136,
   "id": "79171a14-9524-4479-9a5f-61541faef250",
   "metadata": {},
   "outputs": [],
   "source": [
    "#from keras.utils.np_utils import to_categorical # convert to one-hot-encoding\n",
    "from keras.models import Sequential\n",
    "from keras.layers import Dense, Dropout, Flatten, Conv2D, MaxPool2D, BatchNormalization\n",
    "from keras.optimizers import Adam\n",
    "from keras.preprocessing.image import ImageDataGenerator\n",
    "from keras.optimizers import RMSprop\n",
    "from keras.callbacks import LearningRateScheduler"
   ]
  },
  {
   "cell_type": "code",
   "execution_count": 137,
   "id": "41b0c118-a719-4365-bac8-23333899c2f9",
   "metadata": {},
   "outputs": [
    {
     "name": "stdout",
     "output_type": "stream",
     "text": [
      "Random Seeds:\n",
      "TensorFlow: 25815\n",
      "NumPy: 360336750\n"
     ]
    }
   ],
   "source": [
    "import random\n",
    "\n",
    "random_seeds = {\n",
    "    'tf':  25815,\n",
    "    'numpy': 360336750\n",
    "}\n",
    "\n",
    "\n",
    "\n",
    "\n",
    "print(\"Random Seeds:\")\n",
    "print(\"TensorFlow:\", random_seeds['tf'])\n",
    "print(\"NumPy:\", random_seeds['numpy'])"
   ]
  },
  {
   "cell_type": "code",
   "execution_count": 138,
   "id": "89c8a3ad-b17b-492d-8c6a-57e2596a0b17",
   "metadata": {},
   "outputs": [],
   "source": [
    "random_seeds = {'tf_seed': 25815, 'np_seed': 9501}\n",
    "\n",
    "tf.random.set_seed(random_seeds['tf_seed'])\n",
    "np.random.seed(random_seeds['np_seed'])"
   ]
  },
  {
   "cell_type": "code",
   "execution_count": 139,
   "id": "c13c556f-2c20-4ad2-b003-6d86f64db211",
   "metadata": {},
   "outputs": [],
   "source": [
    "train_file = pd.read_csv(\"train.csv\")\n",
    "test_file = pd.read_csv(\"test.csv\")\n",
    "output_file = pd.read_csv(\"sample_submission.csv\")"
   ]
  },
  {
   "cell_type": "code",
   "execution_count": 140,
   "id": "1d665150-54a5-472f-a3d1-acbb71768179",
   "metadata": {},
   "outputs": [],
   "source": [
    "X = train_file.drop('label', axis = 1)\n",
    "y = train_file['label']"
   ]
  },
  {
   "cell_type": "code",
   "execution_count": 141,
   "id": "a23bd5ae-5ed2-44bb-bceb-3cc3b0b62424",
   "metadata": {},
   "outputs": [],
   "source": [
    "\n",
    "x_train, x_val, y_train, y_val = train_test_split(X, y, test_size=0.1)"
   ]
  },
  {
   "cell_type": "code",
   "execution_count": 142,
   "id": "0fe235c3-9872-42e5-9419-f6537214855f",
   "metadata": {},
   "outputs": [],
   "source": [
    "x_test = test_file\n",
    "x_test = x_test.values.reshape(-1,28,28,1)\n",
    "X_test = x_test.astype(\"float32\")/255"
   ]
  },
  {
   "cell_type": "code",
   "execution_count": 143,
   "id": "d12999d8-d44b-4742-a03e-d439da1a2360",
   "metadata": {},
   "outputs": [],
   "source": [
    "x_train = x_train.values.reshape(-1, 28, 28, 1)\n",
    "x_val = x_val.values.reshape(-1, 28, 28, 1)"
   ]
  },
  {
   "cell_type": "code",
   "execution_count": 144,
   "id": "3e8221cd-17ff-4b99-afa6-33e70c50f128",
   "metadata": {},
   "outputs": [],
   "source": [
    "x_train = x_train.astype(\"float32\")/255.\n",
    "x_val = x_val.astype(\"float32\")/255."
   ]
  },
  {
   "cell_type": "code",
   "execution_count": 145,
   "id": "02c4287f-3cce-447c-93f8-243d01d83d70",
   "metadata": {},
   "outputs": [
    {
     "name": "stdout",
     "output_type": "stream",
     "text": [
      "[0. 0. 1. 0. 0. 0. 0. 0. 0. 0.]\n"
     ]
    }
   ],
   "source": [
    "from keras.utils import to_categorical\n",
    "\n",
    "y_train = to_categorical(y_train)\n",
    "y_val = to_categorical(y_val)\n",
    "\n",
    "#example:\n",
    "print(y_train[0])"
   ]
  },
  {
   "cell_type": "code",
   "execution_count": 146,
   "id": "672b7245-8b25-4caf-ab9f-012866d144a5",
   "metadata": {},
   "outputs": [
    {
     "data": {
      "image/png": "[encoded data removed]",
      "text/plain": [
       "<Figure size 640x480 with 1 Axes>"
      ]
     },
     "metadata": {},
     "output_type": "display_data"
    }
   ],
   "source": [
    "g = plt.imshow(x_train[0][:,:,0])"
   ]
  },
  {
   "cell_type": "code",
   "execution_count": 147,
   "id": "10e6cd9b-dfdf-4979-8f32-f13ab17c68bc",
   "metadata": {},
   "outputs": [],
   "source": [
    "model = Sequential()\n",
    "\n",
    "model.add(Conv2D(filters = 32, kernel_size = (5,5),padding = 'Same', \n",
    "                activation ='relu', input_shape = (28,28,1)))\n",
    "model.add(Conv2D(filters = 32, kernel_size = (5,5),padding = 'Same', \n",
    "                activation ='relu'))\n",
    "model.add(MaxPool2D(pool_size=(2,2)))\n",
    "model.add(Dropout(0.25))\n",
    "\n",
    "\n",
    "model.add(Conv2D(filters = 64, kernel_size = (3,3),padding = 'Same', \n",
    "                activation ='relu'))\n",
    "model.add(Conv2D(filters = 64, kernel_size = (3,3),padding = 'Same', \n",
    "                activation ='relu'))\n",
    "model.add(MaxPool2D(pool_size=(2,2), strides=(2,2)))\n",
    "model.add(Dropout(0.25))\n",
    "\n",
    "\n",
    "model.add(Flatten())\n",
    "model.add(Dense(256, activation = \"relu\"))\n",
    "model.add(Dropout(0.5))\n",
    "model.add(Dense(10, activation = \"softmax\"))"
   ]
  },
  {
   "cell_type": "code",
   "execution_count": 148,
   "id": "08a5422a-6b0a-4576-8a3c-fb7ac08487ec",
   "metadata": {},
   "outputs": [
    {
     "name": "stderr",
     "output_type": "stream",
     "text": [
      "WARNING:absl:`lr` is deprecated in Keras optimizer, please use `learning_rate` or use the legacy optimizer, e.g.,tf.keras.optimizers.legacy.RMSprop.\n"
     ]
    }
   ],
   "source": [
    "from tensorflow.keras.optimizers import RMSprop\n",
    "\n",
    "# Crea el optimizador RMSprop utilizando la versión legacy\n",
    "optimizer = RMSprop(lr=0.001, rho=0.9, epsilon=1e-08)"
   ]
  },
  {
   "cell_type": "code",
   "execution_count": 149,
   "id": "f3f004ca-f264-4d62-b746-b9bf64325003",
   "metadata": {},
   "outputs": [],
   "source": [
    "datagen = ImageDataGenerator(zoom_range = 0.1,\n",
    "                            height_shift_range = 0.1,\n",
    "                            width_shift_range = 0.1,\n",
    "                            rotation_range = 10)"
   ]
  },
  {
   "cell_type": "code",
   "execution_count": 150,
   "id": "4e0849a0-c999-44b6-b6d5-169d26f46813",
   "metadata": {},
   "outputs": [],
   "source": [
    "model.compile(loss='categorical_crossentropy', optimizer = optimizer, metrics=[\"accuracy\"])"
   ]
  },
  {
   "cell_type": "code",
   "execution_count": 151,
   "id": "2f7d2939-9bb9-4c15-abdb-3e18d33d8fc0",
   "metadata": {},
   "outputs": [],
   "source": [
    "annealer = LearningRateScheduler(lambda x: 1e-3 * 0.9 ** x)"
   ]
  },
  {
   "cell_type": "code",
   "execution_count": 152,
   "id": "4b873a71-0d8d-4680-99ea-ae7baa08986e",
   "metadata": {},
   "outputs": [],
   "source": [
    "from keras.callbacks import ReduceLROnPlateau\n",
    "learning_rate_reduction = ReduceLROnPlateau(monitor='val_acc',patience=3,  verbose=1, factor=0.5, min_lr=0.00001)"
   ]
  },
  {
   "cell_type": "code",
   "execution_count": 153,
   "id": "d765d7b6-b58d-47ec-84bf-37371d09ed65",
   "metadata": {},
   "outputs": [],
   "source": [
    "datagen = ImageDataGenerator(\n",
    "        featurewise_center=False,  # set input mean to 0 over the dataset\n",
    "        samplewise_center=False,  # set each sample mean to 0\n",
    "        featurewise_std_normalization=False,  # divide inputs by std of the dataset\n",
    "        samplewise_std_normalization=False,  # divide each input by its std\n",
    "        zca_whitening=False,  # apply ZCA whitening\n",
    "        rotation_range=10,  # randomly rotate images in the range (degrees, 0 to 180)\n",
    "        zoom_range = 0.1, # Randomly zoom image \n",
    "        width_shift_range=0.1,  # randomly shift images horizontally (fraction of total width)\n",
    "        height_shift_range=0.1,  # randomly shift images vertically (fraction of total height)\n",
    "        horizontal_flip=False,  # randomly flip images\n",
    "        vertical_flip=False)  # randomly flip images\n",
    "\n",
    "datagen.fit(x_train)"
   ]
  },
  {
   "cell_type": "code",
   "execution_count": 154,
   "id": "814c00a1-076c-4ae7-80f7-469076e126bf",
   "metadata": {},
   "outputs": [
    {
     "name": "stdout",
     "output_type": "stream",
     "text": [
      "Epoch 1/100\n"
     ]
    },
    {
     "name": "stderr",
     "output_type": "stream",
     "text": [
      "C:\\Users\\adiya\\AppData\\Local\\Temp\\ipykernel_19252\\1770491206.py:1: UserWarning: `Model.fit_generator` is deprecated and will be removed in a future version. Please use `Model.fit`, which supports generators.\n",
      "  hist = model.fit_generator(datagen.flow(x_train, y_train, batch_size=8),\n"
     ]
    },
    {
     "name": "stdout",
     "output_type": "stream",
     "text": [
      "500/500 - 5s - loss: 0.9594 - accuracy: 0.6812 - val_loss: 0.1586 - val_accuracy: 0.9575 - lr: 0.0010 - 5s/epoch - 10ms/step\n",
      "Epoch 2/100\n",
      "500/500 - 4s - loss: 0.3433 - accuracy: 0.8960 - val_loss: 0.1121 - val_accuracy: 0.9625 - lr: 9.0000e-04 - 4s/epoch - 9ms/step\n",
      "Epoch 3/100\n",
      "500/500 - 4s - loss: 0.2420 - accuracy: 0.9268 - val_loss: 0.0920 - val_accuracy: 0.9775 - lr: 8.1000e-04 - 4s/epoch - 9ms/step\n",
      "Epoch 4/100\n",
      "500/500 - 4s - loss: 0.2306 - accuracy: 0.9348 - val_loss: 0.0828 - val_accuracy: 0.9750 - lr: 7.2900e-04 - 4s/epoch - 9ms/step\n",
      "Epoch 5/100\n",
      "500/500 - 4s - loss: 0.1667 - accuracy: 0.9525 - val_loss: 0.0855 - val_accuracy: 0.9725 - lr: 6.5610e-04 - 4s/epoch - 9ms/step\n",
      "Epoch 6/100\n",
      "500/500 - 4s - loss: 0.1697 - accuracy: 0.9490 - val_loss: 0.0888 - val_accuracy: 0.9700 - lr: 5.9049e-04 - 4s/epoch - 9ms/step\n",
      "Epoch 7/100\n",
      "500/500 - 4s - loss: 0.1635 - accuracy: 0.9515 - val_loss: 0.1135 - val_accuracy: 0.9675 - lr: 5.3144e-04 - 4s/epoch - 9ms/step\n",
      "Epoch 8/100\n",
      "500/500 - 4s - loss: 0.1458 - accuracy: 0.9548 - val_loss: 0.1256 - val_accuracy: 0.9675 - lr: 4.7830e-04 - 4s/epoch - 9ms/step\n",
      "Epoch 9/100\n",
      "500/500 - 4s - loss: 0.1397 - accuracy: 0.9567 - val_loss: 0.0878 - val_accuracy: 0.9850 - lr: 4.3047e-04 - 4s/epoch - 9ms/step\n",
      "Epoch 10/100\n",
      "500/500 - 4s - loss: 0.1332 - accuracy: 0.9640 - val_loss: 0.0545 - val_accuracy: 0.9825 - lr: 3.8742e-04 - 4s/epoch - 9ms/step\n",
      "Epoch 11/100\n",
      "500/500 - 4s - loss: 0.1431 - accuracy: 0.9615 - val_loss: 0.0703 - val_accuracy: 0.9775 - lr: 3.4868e-04 - 4s/epoch - 9ms/step\n",
      "Epoch 12/100\n",
      "500/500 - 4s - loss: 0.1353 - accuracy: 0.9625 - val_loss: 0.0694 - val_accuracy: 0.9800 - lr: 3.1381e-04 - 4s/epoch - 9ms/step\n",
      "Epoch 13/100\n",
      "500/500 - 4s - loss: 0.1081 - accuracy: 0.9670 - val_loss: 0.0465 - val_accuracy: 0.9775 - lr: 2.8243e-04 - 4s/epoch - 9ms/step\n",
      "Epoch 14/100\n",
      "500/500 - 4s - loss: 0.0964 - accuracy: 0.9695 - val_loss: 0.0739 - val_accuracy: 0.9800 - lr: 2.5419e-04 - 4s/epoch - 9ms/step\n",
      "Epoch 15/100\n",
      "500/500 - 4s - loss: 0.1113 - accuracy: 0.9680 - val_loss: 0.0625 - val_accuracy: 0.9825 - lr: 2.2877e-04 - 4s/epoch - 9ms/step\n",
      "Epoch 16/100\n",
      "500/500 - 4s - loss: 0.0964 - accuracy: 0.9722 - val_loss: 0.0460 - val_accuracy: 0.9900 - lr: 2.0589e-04 - 4s/epoch - 9ms/step\n",
      "Epoch 17/100\n",
      "500/500 - 4s - loss: 0.0881 - accuracy: 0.9737 - val_loss: 0.0398 - val_accuracy: 0.9875 - lr: 1.8530e-04 - 4s/epoch - 9ms/step\n",
      "Epoch 18/100\n",
      "500/500 - 4s - loss: 0.0917 - accuracy: 0.9730 - val_loss: 0.0594 - val_accuracy: 0.9850 - lr: 1.6677e-04 - 4s/epoch - 9ms/step\n",
      "Epoch 19/100\n",
      "500/500 - 4s - loss: 0.0880 - accuracy: 0.9735 - val_loss: 0.0627 - val_accuracy: 0.9800 - lr: 1.5009e-04 - 4s/epoch - 9ms/step\n",
      "Epoch 20/100\n",
      "500/500 - 4s - loss: 0.0900 - accuracy: 0.9728 - val_loss: 0.0425 - val_accuracy: 0.9875 - lr: 1.3509e-04 - 4s/epoch - 9ms/step\n",
      "Epoch 21/100\n",
      "500/500 - 4s - loss: 0.0814 - accuracy: 0.9770 - val_loss: 0.0411 - val_accuracy: 0.9900 - lr: 1.2158e-04 - 4s/epoch - 9ms/step\n",
      "Epoch 22/100\n",
      "500/500 - 4s - loss: 0.0877 - accuracy: 0.9743 - val_loss: 0.0475 - val_accuracy: 0.9900 - lr: 1.0942e-04 - 4s/epoch - 9ms/step\n",
      "Epoch 23/100\n",
      "500/500 - 5s - loss: 0.0744 - accuracy: 0.9790 - val_loss: 0.0504 - val_accuracy: 0.9850 - lr: 9.8477e-05 - 5s/epoch - 9ms/step\n",
      "Epoch 24/100\n",
      "500/500 - 5s - loss: 0.0769 - accuracy: 0.9795 - val_loss: 0.0531 - val_accuracy: 0.9875 - lr: 8.8629e-05 - 5s/epoch - 9ms/step\n",
      "Epoch 25/100\n",
      "500/500 - 5s - loss: 0.0728 - accuracy: 0.9787 - val_loss: 0.0499 - val_accuracy: 0.9875 - lr: 7.9766e-05 - 5s/epoch - 9ms/step\n",
      "Epoch 26/100\n",
      "500/500 - 5s - loss: 0.0769 - accuracy: 0.9790 - val_loss: 0.0522 - val_accuracy: 0.9900 - lr: 7.1790e-05 - 5s/epoch - 9ms/step\n",
      "Epoch 27/100\n",
      "500/500 - 5s - loss: 0.0900 - accuracy: 0.9740 - val_loss: 0.0380 - val_accuracy: 0.9875 - lr: 6.4611e-05 - 5s/epoch - 9ms/step\n",
      "Epoch 28/100\n",
      "500/500 - 4s - loss: 0.0828 - accuracy: 0.9780 - val_loss: 0.0577 - val_accuracy: 0.9850 - lr: 5.8150e-05 - 4s/epoch - 9ms/step\n",
      "Epoch 29/100\n",
      "500/500 - 4s - loss: 0.0748 - accuracy: 0.9803 - val_loss: 0.0373 - val_accuracy: 0.9900 - lr: 5.2335e-05 - 4s/epoch - 9ms/step\n",
      "Epoch 30/100\n",
      "500/500 - 4s - loss: 0.0726 - accuracy: 0.9775 - val_loss: 0.0441 - val_accuracy: 0.9875 - lr: 4.7101e-05 - 4s/epoch - 9ms/step\n",
      "Epoch 31/100\n",
      "500/500 - 4s - loss: 0.0792 - accuracy: 0.9770 - val_loss: 0.0338 - val_accuracy: 0.9850 - lr: 4.2391e-05 - 4s/epoch - 9ms/step\n",
      "Epoch 32/100\n",
      "500/500 - 4s - loss: 0.0636 - accuracy: 0.9822 - val_loss: 0.0437 - val_accuracy: 0.9875 - lr: 3.8152e-05 - 4s/epoch - 9ms/step\n",
      "Epoch 33/100\n",
      "500/500 - 4s - loss: 0.0718 - accuracy: 0.9820 - val_loss: 0.0410 - val_accuracy: 0.9875 - lr: 3.4337e-05 - 4s/epoch - 9ms/step\n",
      "Epoch 34/100\n",
      "500/500 - 4s - loss: 0.0736 - accuracy: 0.9775 - val_loss: 0.0453 - val_accuracy: 0.9850 - lr: 3.0903e-05 - 4s/epoch - 9ms/step\n",
      "Epoch 35/100\n",
      "500/500 - 4s - loss: 0.0785 - accuracy: 0.9778 - val_loss: 0.0398 - val_accuracy: 0.9850 - lr: 2.7813e-05 - 4s/epoch - 9ms/step\n",
      "Epoch 36/100\n",
      "500/500 - 4s - loss: 0.0785 - accuracy: 0.9808 - val_loss: 0.0369 - val_accuracy: 0.9850 - lr: 2.5032e-05 - 4s/epoch - 9ms/step\n",
      "Epoch 37/100\n",
      "500/500 - 4s - loss: 0.0593 - accuracy: 0.9835 - val_loss: 0.0464 - val_accuracy: 0.9850 - lr: 2.2528e-05 - 4s/epoch - 9ms/step\n",
      "Epoch 38/100\n",
      "500/500 - 5s - loss: 0.0784 - accuracy: 0.9772 - val_loss: 0.0399 - val_accuracy: 0.9850 - lr: 2.0276e-05 - 5s/epoch - 9ms/step\n",
      "Epoch 39/100\n",
      "500/500 - 4s - loss: 0.0696 - accuracy: 0.9790 - val_loss: 0.0375 - val_accuracy: 0.9900 - lr: 1.8248e-05 - 4s/epoch - 9ms/step\n",
      "Epoch 40/100\n",
      "500/500 - 4s - loss: 0.0700 - accuracy: 0.9793 - val_loss: 0.0361 - val_accuracy: 0.9875 - lr: 1.6423e-05 - 4s/epoch - 9ms/step\n",
      "Epoch 41/100\n",
      "500/500 - 5s - loss: 0.0860 - accuracy: 0.9765 - val_loss: 0.0404 - val_accuracy: 0.9850 - lr: 1.4781e-05 - 5s/epoch - 9ms/step\n",
      "Epoch 42/100\n",
      "500/500 - 4s - loss: 0.0642 - accuracy: 0.9803 - val_loss: 0.0415 - val_accuracy: 0.9850 - lr: 1.3303e-05 - 4s/epoch - 9ms/step\n",
      "Epoch 43/100\n",
      "500/500 - 5s - loss: 0.0741 - accuracy: 0.9797 - val_loss: 0.0403 - val_accuracy: 0.9850 - lr: 1.1973e-05 - 5s/epoch - 9ms/step\n",
      "Epoch 44/100\n",
      "500/500 - 5s - loss: 0.0654 - accuracy: 0.9812 - val_loss: 0.0405 - val_accuracy: 0.9875 - lr: 1.0775e-05 - 5s/epoch - 9ms/step\n",
      "Epoch 45/100\n",
      "500/500 - 5s - loss: 0.0705 - accuracy: 0.9770 - val_loss: 0.0393 - val_accuracy: 0.9900 - lr: 9.6977e-06 - 5s/epoch - 9ms/step\n",
      "Epoch 46/100\n",
      "500/500 - 5s - loss: 0.0647 - accuracy: 0.9820 - val_loss: 0.0423 - val_accuracy: 0.9900 - lr: 8.7280e-06 - 5s/epoch - 9ms/step\n",
      "Epoch 47/100\n",
      "500/500 - 5s - loss: 0.0758 - accuracy: 0.9793 - val_loss: 0.0393 - val_accuracy: 0.9850 - lr: 7.8552e-06 - 5s/epoch - 9ms/step\n",
      "Epoch 48/100\n",
      "500/500 - 5s - loss: 0.0718 - accuracy: 0.9803 - val_loss: 0.0384 - val_accuracy: 0.9900 - lr: 7.0697e-06 - 5s/epoch - 9ms/step\n",
      "Epoch 49/100\n",
      "500/500 - 5s - loss: 0.0751 - accuracy: 0.9785 - val_loss: 0.0401 - val_accuracy: 0.9875 - lr: 6.3627e-06 - 5s/epoch - 9ms/step\n",
      "Epoch 50/100\n",
      "500/500 - 5s - loss: 0.0746 - accuracy: 0.9780 - val_loss: 0.0389 - val_accuracy: 0.9900 - lr: 5.7264e-06 - 5s/epoch - 9ms/step\n",
      "Epoch 51/100\n",
      "500/500 - 4s - loss: 0.0731 - accuracy: 0.9822 - val_loss: 0.0377 - val_accuracy: 0.9900 - lr: 5.1538e-06 - 4s/epoch - 9ms/step\n",
      "Epoch 52/100\n",
      "500/500 - 4s - loss: 0.0568 - accuracy: 0.9843 - val_loss: 0.0377 - val_accuracy: 0.9900 - lr: 4.6384e-06 - 4s/epoch - 9ms/step\n",
      "Epoch 53/100\n",
      "500/500 - 4s - loss: 0.0740 - accuracy: 0.9803 - val_loss: 0.0374 - val_accuracy: 0.9900 - lr: 4.1746e-06 - 4s/epoch - 9ms/step\n",
      "Epoch 54/100\n",
      "500/500 - 4s - loss: 0.0788 - accuracy: 0.9783 - val_loss: 0.0379 - val_accuracy: 0.9900 - lr: 3.7571e-06 - 4s/epoch - 9ms/step\n",
      "Epoch 55/100\n",
      "500/500 - 4s - loss: 0.0712 - accuracy: 0.9812 - val_loss: 0.0371 - val_accuracy: 0.9900 - lr: 3.3814e-06 - 4s/epoch - 9ms/step\n",
      "Epoch 56/100\n",
      "500/500 - 4s - loss: 0.0648 - accuracy: 0.9785 - val_loss: 0.0375 - val_accuracy: 0.9900 - lr: 3.0433e-06 - 4s/epoch - 9ms/step\n",
      "Epoch 57/100\n",
      "500/500 - 5s - loss: 0.0722 - accuracy: 0.9793 - val_loss: 0.0383 - val_accuracy: 0.9875 - lr: 2.7389e-06 - 5s/epoch - 9ms/step\n",
      "Epoch 58/100\n",
      "500/500 - 5s - loss: 0.0778 - accuracy: 0.9770 - val_loss: 0.0377 - val_accuracy: 0.9900 - lr: 2.4650e-06 - 5s/epoch - 9ms/step\n",
      "Epoch 59/100\n",
      "500/500 - 5s - loss: 0.0817 - accuracy: 0.9768 - val_loss: 0.0370 - val_accuracy: 0.9875 - lr: 2.2185e-06 - 5s/epoch - 9ms/step\n",
      "Epoch 60/100\n",
      "500/500 - 4s - loss: 0.0786 - accuracy: 0.9747 - val_loss: 0.0376 - val_accuracy: 0.9875 - lr: 1.9967e-06 - 4s/epoch - 9ms/step\n",
      "Epoch 61/100\n",
      "500/500 - 4s - loss: 0.0666 - accuracy: 0.9797 - val_loss: 0.0381 - val_accuracy: 0.9875 - lr: 1.7970e-06 - 4s/epoch - 9ms/step\n",
      "Epoch 62/100\n",
      "500/500 - 4s - loss: 0.0797 - accuracy: 0.9770 - val_loss: 0.0374 - val_accuracy: 0.9875 - lr: 1.6173e-06 - 4s/epoch - 9ms/step\n",
      "Epoch 63/100\n",
      "500/500 - 4s - loss: 0.0635 - accuracy: 0.9830 - val_loss: 0.0379 - val_accuracy: 0.9875 - lr: 1.4556e-06 - 4s/epoch - 9ms/step\n",
      "Epoch 64/100\n",
      "500/500 - 4s - loss: 0.0635 - accuracy: 0.9833 - val_loss: 0.0373 - val_accuracy: 0.9875 - lr: 1.3100e-06 - 4s/epoch - 9ms/step\n",
      "Epoch 65/100\n",
      "500/500 - 4s - loss: 0.0780 - accuracy: 0.9778 - val_loss: 0.0371 - val_accuracy: 0.9875 - lr: 1.1790e-06 - 4s/epoch - 9ms/step\n",
      "Epoch 66/100\n",
      "500/500 - 4s - loss: 0.0610 - accuracy: 0.9837 - val_loss: 0.0373 - val_accuracy: 0.9875 - lr: 1.0611e-06 - 4s/epoch - 9ms/step\n",
      "Epoch 67/100\n",
      "500/500 - 4s - loss: 0.0695 - accuracy: 0.9780 - val_loss: 0.0373 - val_accuracy: 0.9875 - lr: 9.5500e-07 - 4s/epoch - 9ms/step\n",
      "Epoch 68/100\n",
      "500/500 - 4s - loss: 0.0737 - accuracy: 0.9772 - val_loss: 0.0375 - val_accuracy: 0.9875 - lr: 8.5950e-07 - 4s/epoch - 9ms/step\n",
      "Epoch 69/100\n",
      "500/500 - 4s - loss: 0.0632 - accuracy: 0.9775 - val_loss: 0.0377 - val_accuracy: 0.9875 - lr: 7.7355e-07 - 4s/epoch - 9ms/step\n",
      "Epoch 70/100\n",
      "500/500 - 4s - loss: 0.0783 - accuracy: 0.9758 - val_loss: 0.0378 - val_accuracy: 0.9875 - lr: 6.9620e-07 - 4s/epoch - 9ms/step\n",
      "Epoch 71/100\n",
      "500/500 - 4s - loss: 0.0610 - accuracy: 0.9818 - val_loss: 0.0377 - val_accuracy: 0.9875 - lr: 6.2658e-07 - 4s/epoch - 9ms/step\n",
      "Epoch 72/100\n",
      "500/500 - 4s - loss: 0.0723 - accuracy: 0.9805 - val_loss: 0.0378 - val_accuracy: 0.9875 - lr: 5.6392e-07 - 4s/epoch - 9ms/step\n",
      "Epoch 73/100\n",
      "500/500 - 4s - loss: 0.0775 - accuracy: 0.9772 - val_loss: 0.0378 - val_accuracy: 0.9875 - lr: 5.0753e-07 - 4s/epoch - 9ms/step\n",
      "Epoch 74/100\n",
      "500/500 - 4s - loss: 0.0654 - accuracy: 0.9797 - val_loss: 0.0376 - val_accuracy: 0.9875 - lr: 4.5678e-07 - 4s/epoch - 9ms/step\n",
      "Epoch 75/100\n",
      "500/500 - 5s - loss: 0.0726 - accuracy: 0.9818 - val_loss: 0.0377 - val_accuracy: 0.9875 - lr: 4.1110e-07 - 5s/epoch - 9ms/step\n",
      "Epoch 76/100\n",
      "500/500 - 5s - loss: 0.0664 - accuracy: 0.9818 - val_loss: 0.0376 - val_accuracy: 0.9875 - lr: 3.6999e-07 - 5s/epoch - 9ms/step\n",
      "Epoch 77/100\n",
      "500/500 - 5s - loss: 0.0799 - accuracy: 0.9795 - val_loss: 0.0376 - val_accuracy: 0.9875 - lr: 3.3299e-07 - 5s/epoch - 9ms/step\n",
      "Epoch 78/100\n",
      "500/500 - 5s - loss: 0.0686 - accuracy: 0.9795 - val_loss: 0.0376 - val_accuracy: 0.9875 - lr: 2.9969e-07 - 5s/epoch - 9ms/step\n",
      "Epoch 79/100\n",
      "500/500 - 5s - loss: 0.0641 - accuracy: 0.9808 - val_loss: 0.0374 - val_accuracy: 0.9875 - lr: 2.6972e-07 - 5s/epoch - 9ms/step\n",
      "Epoch 80/100\n",
      "500/500 - 5s - loss: 0.0691 - accuracy: 0.9805 - val_loss: 0.0375 - val_accuracy: 0.9875 - lr: 2.4275e-07 - 5s/epoch - 9ms/step\n",
      "Epoch 81/100\n",
      "500/500 - 4s - loss: 0.0569 - accuracy: 0.9830 - val_loss: 0.0374 - val_accuracy: 0.9875 - lr: 2.1847e-07 - 4s/epoch - 9ms/step\n",
      "Epoch 82/100\n",
      "500/500 - 4s - loss: 0.0654 - accuracy: 0.9772 - val_loss: 0.0374 - val_accuracy: 0.9875 - lr: 1.9663e-07 - 4s/epoch - 9ms/step\n",
      "Epoch 83/100\n",
      "500/500 - 5s - loss: 0.0640 - accuracy: 0.9822 - val_loss: 0.0374 - val_accuracy: 0.9875 - lr: 1.7696e-07 - 5s/epoch - 9ms/step\n",
      "Epoch 84/100\n",
      "500/500 - 4s - loss: 0.0617 - accuracy: 0.9800 - val_loss: 0.0374 - val_accuracy: 0.9875 - lr: 1.5927e-07 - 4s/epoch - 9ms/step\n",
      "Epoch 85/100\n",
      "500/500 - 4s - loss: 0.0718 - accuracy: 0.9790 - val_loss: 0.0374 - val_accuracy: 0.9875 - lr: 1.4334e-07 - 4s/epoch - 9ms/step\n",
      "Epoch 86/100\n",
      "500/500 - 4s - loss: 0.0906 - accuracy: 0.9768 - val_loss: 0.0374 - val_accuracy: 0.9875 - lr: 1.2901e-07 - 4s/epoch - 9ms/step\n",
      "Epoch 87/100\n",
      "500/500 - 4s - loss: 0.0766 - accuracy: 0.9783 - val_loss: 0.0375 - val_accuracy: 0.9875 - lr: 1.1611e-07 - 4s/epoch - 9ms/step\n",
      "Epoch 88/100\n",
      "500/500 - 5s - loss: 0.0723 - accuracy: 0.9787 - val_loss: 0.0375 - val_accuracy: 0.9875 - lr: 1.0450e-07 - 5s/epoch - 9ms/step\n",
      "Epoch 89/100\n",
      "500/500 - 5s - loss: 0.0631 - accuracy: 0.9812 - val_loss: 0.0375 - val_accuracy: 0.9875 - lr: 9.4046e-08 - 5s/epoch - 9ms/step\n",
      "Epoch 90/100\n",
      "500/500 - 5s - loss: 0.0735 - accuracy: 0.9808 - val_loss: 0.0375 - val_accuracy: 0.9875 - lr: 8.4641e-08 - 5s/epoch - 9ms/step\n",
      "Epoch 91/100\n",
      "500/500 - 5s - loss: 0.0652 - accuracy: 0.9818 - val_loss: 0.0375 - val_accuracy: 0.9875 - lr: 7.6177e-08 - 5s/epoch - 9ms/step\n",
      "Epoch 92/100\n",
      "500/500 - 5s - loss: 0.0540 - accuracy: 0.9830 - val_loss: 0.0375 - val_accuracy: 0.9875 - lr: 6.8560e-08 - 5s/epoch - 9ms/step\n",
      "Epoch 93/100\n",
      "500/500 - 5s - loss: 0.0836 - accuracy: 0.9790 - val_loss: 0.0375 - val_accuracy: 0.9875 - lr: 6.1704e-08 - 5s/epoch - 9ms/step\n",
      "Epoch 94/100\n",
      "500/500 - 5s - loss: 0.0721 - accuracy: 0.9795 - val_loss: 0.0375 - val_accuracy: 0.9875 - lr: 5.5533e-08 - 5s/epoch - 9ms/step\n",
      "Epoch 95/100\n",
      "500/500 - 5s - loss: 0.0667 - accuracy: 0.9820 - val_loss: 0.0375 - val_accuracy: 0.9875 - lr: 4.9980e-08 - 5s/epoch - 9ms/step\n",
      "Epoch 96/100\n",
      "500/500 - 5s - loss: 0.0557 - accuracy: 0.9825 - val_loss: 0.0375 - val_accuracy: 0.9875 - lr: 4.4982e-08 - 5s/epoch - 9ms/step\n",
      "Epoch 97/100\n",
      "500/500 - 5s - loss: 0.0696 - accuracy: 0.9805 - val_loss: 0.0375 - val_accuracy: 0.9875 - lr: 4.0484e-08 - 5s/epoch - 9ms/step\n",
      "Epoch 98/100\n",
      "500/500 - 5s - loss: 0.0680 - accuracy: 0.9815 - val_loss: 0.0375 - val_accuracy: 0.9875 - lr: 3.6435e-08 - 5s/epoch - 9ms/step\n",
      "Epoch 99/100\n",
      "500/500 - 5s - loss: 0.0646 - accuracy: 0.9803 - val_loss: 0.0375 - val_accuracy: 0.9875 - lr: 3.2792e-08 - 5s/epoch - 9ms/step\n",
      "Epoch 100/100\n",
      "500/500 - 5s - loss: 0.0736 - accuracy: 0.9785 - val_loss: 0.0375 - val_accuracy: 0.9875 - lr: 2.9513e-08 - 5s/epoch - 9ms/step\n"
     ]
    }
   ],
   "source": [
    "hist = model.fit_generator(datagen.flow(x_train, y_train, batch_size=8),\n",
    "                          steps_per_epoch=500,\n",
    "                          epochs=100, #Increase this when not on Kaggle kernel\n",
    "                          verbose=2,  #1 for ETA, 0 for silent\n",
    "                          validation_data=(x_val[:400,:], y_val[:400,:]), #For speed\n",
    "                          callbacks=[annealer])"
   ]
  },
  {
   "cell_type": "code",
   "execution_count": 172,
   "id": "7bde459a-bf8d-44a5-924d-00efa782d88e",
   "metadata": {},
   "outputs": [
    {
     "name": "stdout",
     "output_type": "stream",
     "text": [
      "Epoch 1/100\n"
     ]
    },
    {
     "name": "stderr",
     "output_type": "stream",
     "text": [
      "C:\\Users\\adiya\\AppData\\Local\\Temp\\ipykernel_19252\\850454701.py:1: UserWarning: `Model.fit_generator` is deprecated and will be removed in a future version. Please use `Model.fit`, which supports generators.\n",
      "  hist = model.fit_generator(datagen.flow(x_train, y_train, batch_size=16),\n"
     ]
    },
    {
     "name": "stdout",
     "output_type": "stream",
     "text": [
      "WARNING:tensorflow:Learning rate reduction is conditioned on metric `val_acc` which is not available. Available metrics are: loss,accuracy,val_loss,val_accuracy,lr\n"
     ]
    },
    {
     "name": "stderr",
     "output_type": "stream",
     "text": [
      "WARNING:tensorflow:Learning rate reduction is conditioned on metric `val_acc` which is not available. Available metrics are: loss,accuracy,val_loss,val_accuracy,lr\n"
     ]
    },
    {
     "name": "stdout",
     "output_type": "stream",
     "text": [
      "500/500 - 6s - loss: 0.0676 - accuracy: 0.9799 - val_loss: 0.0373 - val_accuracy: 0.9875 - lr: 2.9513e-08 - 6s/epoch - 12ms/step\n",
      "Epoch 2/100\n",
      "WARNING:tensorflow:Learning rate reduction is conditioned on metric `val_acc` which is not available. Available metrics are: loss,accuracy,val_loss,val_accuracy,lr\n"
     ]
    },
    {
     "name": "stderr",
     "output_type": "stream",
     "text": [
      "WARNING:tensorflow:Learning rate reduction is conditioned on metric `val_acc` which is not available. Available metrics are: loss,accuracy,val_loss,val_accuracy,lr\n"
     ]
    },
    {
     "name": "stdout",
     "output_type": "stream",
     "text": [
      "500/500 - 6s - loss: 0.0676 - accuracy: 0.9787 - val_loss: 0.0373 - val_accuracy: 0.9875 - lr: 2.9513e-08 - 6s/epoch - 13ms/step\n",
      "Epoch 3/100\n",
      "WARNING:tensorflow:Learning rate reduction is conditioned on metric `val_acc` which is not available. Available metrics are: loss,accuracy,val_loss,val_accuracy,lr\n"
     ]
    },
    {
     "name": "stderr",
     "output_type": "stream",
     "text": [
      "WARNING:tensorflow:Learning rate reduction is conditioned on metric `val_acc` which is not available. Available metrics are: loss,accuracy,val_loss,val_accuracy,lr\n"
     ]
    },
    {
     "name": "stdout",
     "output_type": "stream",
     "text": [
      "500/500 - 6s - loss: 0.0700 - accuracy: 0.9774 - val_loss: 0.0373 - val_accuracy: 0.9875 - lr: 2.9513e-08 - 6s/epoch - 13ms/step\n",
      "Epoch 4/100\n",
      "WARNING:tensorflow:Learning rate reduction is conditioned on metric `val_acc` which is not available. Available metrics are: loss,accuracy,val_loss,val_accuracy,lr\n"
     ]
    },
    {
     "name": "stderr",
     "output_type": "stream",
     "text": [
      "WARNING:tensorflow:Learning rate reduction is conditioned on metric `val_acc` which is not available. Available metrics are: loss,accuracy,val_loss,val_accuracy,lr\n"
     ]
    },
    {
     "name": "stdout",
     "output_type": "stream",
     "text": [
      "500/500 - 6s - loss: 0.0646 - accuracy: 0.9803 - val_loss: 0.0373 - val_accuracy: 0.9875 - lr: 2.9513e-08 - 6s/epoch - 13ms/step\n",
      "Epoch 5/100\n",
      "WARNING:tensorflow:Learning rate reduction is conditioned on metric `val_acc` which is not available. Available metrics are: loss,accuracy,val_loss,val_accuracy,lr\n"
     ]
    },
    {
     "name": "stderr",
     "output_type": "stream",
     "text": [
      "WARNING:tensorflow:Learning rate reduction is conditioned on metric `val_acc` which is not available. Available metrics are: loss,accuracy,val_loss,val_accuracy,lr\n"
     ]
    },
    {
     "name": "stdout",
     "output_type": "stream",
     "text": [
      "500/500 - 6s - loss: 0.0646 - accuracy: 0.9816 - val_loss: 0.0373 - val_accuracy: 0.9875 - lr: 2.9513e-08 - 6s/epoch - 13ms/step\n",
      "Epoch 6/100\n",
      "WARNING:tensorflow:Learning rate reduction is conditioned on metric `val_acc` which is not available. Available metrics are: loss,accuracy,val_loss,val_accuracy,lr\n"
     ]
    },
    {
     "name": "stderr",
     "output_type": "stream",
     "text": [
      "WARNING:tensorflow:Learning rate reduction is conditioned on metric `val_acc` which is not available. Available metrics are: loss,accuracy,val_loss,val_accuracy,lr\n"
     ]
    },
    {
     "name": "stdout",
     "output_type": "stream",
     "text": [
      "500/500 - 6s - loss: 0.0704 - accuracy: 0.9811 - val_loss: 0.0373 - val_accuracy: 0.9875 - lr: 2.9513e-08 - 6s/epoch - 13ms/step\n",
      "Epoch 7/100\n",
      "WARNING:tensorflow:Learning rate reduction is conditioned on metric `val_acc` which is not available. Available metrics are: loss,accuracy,val_loss,val_accuracy,lr\n"
     ]
    },
    {
     "name": "stderr",
     "output_type": "stream",
     "text": [
      "WARNING:tensorflow:Learning rate reduction is conditioned on metric `val_acc` which is not available. Available metrics are: loss,accuracy,val_loss,val_accuracy,lr\n"
     ]
    },
    {
     "name": "stdout",
     "output_type": "stream",
     "text": [
      "500/500 - 6s - loss: 0.0650 - accuracy: 0.9809 - val_loss: 0.0373 - val_accuracy: 0.9875 - lr: 2.9513e-08 - 6s/epoch - 13ms/step\n",
      "Epoch 8/100\n",
      "WARNING:tensorflow:Learning rate reduction is conditioned on metric `val_acc` which is not available. Available metrics are: loss,accuracy,val_loss,val_accuracy,lr\n"
     ]
    },
    {
     "name": "stderr",
     "output_type": "stream",
     "text": [
      "WARNING:tensorflow:Learning rate reduction is conditioned on metric `val_acc` which is not available. Available metrics are: loss,accuracy,val_loss,val_accuracy,lr\n"
     ]
    },
    {
     "name": "stdout",
     "output_type": "stream",
     "text": [
      "500/500 - 6s - loss: 0.0701 - accuracy: 0.9812 - val_loss: 0.0373 - val_accuracy: 0.9875 - lr: 2.9513e-08 - 6s/epoch - 13ms/step\n",
      "Epoch 9/100\n",
      "WARNING:tensorflow:Learning rate reduction is conditioned on metric `val_acc` which is not available. Available metrics are: loss,accuracy,val_loss,val_accuracy,lr\n"
     ]
    },
    {
     "name": "stderr",
     "output_type": "stream",
     "text": [
      "WARNING:tensorflow:Learning rate reduction is conditioned on metric `val_acc` which is not available. Available metrics are: loss,accuracy,val_loss,val_accuracy,lr\n"
     ]
    },
    {
     "name": "stdout",
     "output_type": "stream",
     "text": [
      "500/500 - 6s - loss: 0.0750 - accuracy: 0.9801 - val_loss: 0.0373 - val_accuracy: 0.9875 - lr: 2.9513e-08 - 6s/epoch - 13ms/step\n",
      "Epoch 10/100\n",
      "WARNING:tensorflow:Learning rate reduction is conditioned on metric `val_acc` which is not available. Available metrics are: loss,accuracy,val_loss,val_accuracy,lr\n"
     ]
    },
    {
     "name": "stderr",
     "output_type": "stream",
     "text": [
      "WARNING:tensorflow:Learning rate reduction is conditioned on metric `val_acc` which is not available. Available metrics are: loss,accuracy,val_loss,val_accuracy,lr\n"
     ]
    },
    {
     "name": "stdout",
     "output_type": "stream",
     "text": [
      "500/500 - 6s - loss: 0.0692 - accuracy: 0.9780 - val_loss: 0.0373 - val_accuracy: 0.9875 - lr: 2.9513e-08 - 6s/epoch - 13ms/step\n",
      "Epoch 11/100\n",
      "WARNING:tensorflow:Learning rate reduction is conditioned on metric `val_acc` which is not available. Available metrics are: loss,accuracy,val_loss,val_accuracy,lr\n"
     ]
    },
    {
     "name": "stderr",
     "output_type": "stream",
     "text": [
      "WARNING:tensorflow:Learning rate reduction is conditioned on metric `val_acc` which is not available. Available metrics are: loss,accuracy,val_loss,val_accuracy,lr\n"
     ]
    },
    {
     "name": "stdout",
     "output_type": "stream",
     "text": [
      "500/500 - 6s - loss: 0.0765 - accuracy: 0.9786 - val_loss: 0.0373 - val_accuracy: 0.9875 - lr: 2.9513e-08 - 6s/epoch - 13ms/step\n",
      "Epoch 12/100\n",
      "WARNING:tensorflow:Learning rate reduction is conditioned on metric `val_acc` which is not available. Available metrics are: loss,accuracy,val_loss,val_accuracy,lr\n"
     ]
    },
    {
     "name": "stderr",
     "output_type": "stream",
     "text": [
      "WARNING:tensorflow:Learning rate reduction is conditioned on metric `val_acc` which is not available. Available metrics are: loss,accuracy,val_loss,val_accuracy,lr\n"
     ]
    },
    {
     "name": "stdout",
     "output_type": "stream",
     "text": [
      "500/500 - 6s - loss: 0.0680 - accuracy: 0.9785 - val_loss: 0.0373 - val_accuracy: 0.9875 - lr: 2.9513e-08 - 6s/epoch - 13ms/step\n",
      "Epoch 13/100\n",
      "WARNING:tensorflow:Learning rate reduction is conditioned on metric `val_acc` which is not available. Available metrics are: loss,accuracy,val_loss,val_accuracy,lr\n"
     ]
    },
    {
     "name": "stderr",
     "output_type": "stream",
     "text": [
      "WARNING:tensorflow:Learning rate reduction is conditioned on metric `val_acc` which is not available. Available metrics are: loss,accuracy,val_loss,val_accuracy,lr\n"
     ]
    },
    {
     "name": "stdout",
     "output_type": "stream",
     "text": [
      "500/500 - 6s - loss: 0.0671 - accuracy: 0.9806 - val_loss: 0.0373 - val_accuracy: 0.9875 - lr: 2.9513e-08 - 6s/epoch - 13ms/step\n",
      "Epoch 14/100\n",
      "WARNING:tensorflow:Learning rate reduction is conditioned on metric `val_acc` which is not available. Available metrics are: loss,accuracy,val_loss,val_accuracy,lr\n"
     ]
    },
    {
     "name": "stderr",
     "output_type": "stream",
     "text": [
      "WARNING:tensorflow:Learning rate reduction is conditioned on metric `val_acc` which is not available. Available metrics are: loss,accuracy,val_loss,val_accuracy,lr\n"
     ]
    },
    {
     "name": "stdout",
     "output_type": "stream",
     "text": [
      "500/500 - 6s - loss: 0.0757 - accuracy: 0.9790 - val_loss: 0.0372 - val_accuracy: 0.9875 - lr: 2.9513e-08 - 6s/epoch - 13ms/step\n",
      "Epoch 15/100\n",
      "WARNING:tensorflow:Learning rate reduction is conditioned on metric `val_acc` which is not available. Available metrics are: loss,accuracy,val_loss,val_accuracy,lr\n"
     ]
    },
    {
     "name": "stderr",
     "output_type": "stream",
     "text": [
      "WARNING:tensorflow:Learning rate reduction is conditioned on metric `val_acc` which is not available. Available metrics are: loss,accuracy,val_loss,val_accuracy,lr\n"
     ]
    },
    {
     "name": "stdout",
     "output_type": "stream",
     "text": [
      "500/500 - 6s - loss: 0.0604 - accuracy: 0.9831 - val_loss: 0.0372 - val_accuracy: 0.9875 - lr: 2.9513e-08 - 6s/epoch - 13ms/step\n",
      "Epoch 16/100\n",
      "WARNING:tensorflow:Learning rate reduction is conditioned on metric `val_acc` which is not available. Available metrics are: loss,accuracy,val_loss,val_accuracy,lr\n"
     ]
    },
    {
     "name": "stderr",
     "output_type": "stream",
     "text": [
      "WARNING:tensorflow:Learning rate reduction is conditioned on metric `val_acc` which is not available. Available metrics are: loss,accuracy,val_loss,val_accuracy,lr\n"
     ]
    },
    {
     "name": "stdout",
     "output_type": "stream",
     "text": [
      "500/500 - 6s - loss: 0.0695 - accuracy: 0.9811 - val_loss: 0.0372 - val_accuracy: 0.9875 - lr: 2.9513e-08 - 6s/epoch - 13ms/step\n",
      "Epoch 17/100\n",
      "WARNING:tensorflow:Learning rate reduction is conditioned on metric `val_acc` which is not available. Available metrics are: loss,accuracy,val_loss,val_accuracy,lr\n"
     ]
    },
    {
     "name": "stderr",
     "output_type": "stream",
     "text": [
      "WARNING:tensorflow:Learning rate reduction is conditioned on metric `val_acc` which is not available. Available metrics are: loss,accuracy,val_loss,val_accuracy,lr\n"
     ]
    },
    {
     "name": "stdout",
     "output_type": "stream",
     "text": [
      "500/500 - 6s - loss: 0.0711 - accuracy: 0.9795 - val_loss: 0.0372 - val_accuracy: 0.9875 - lr: 2.9513e-08 - 6s/epoch - 13ms/step\n",
      "Epoch 18/100\n",
      "WARNING:tensorflow:Learning rate reduction is conditioned on metric `val_acc` which is not available. Available metrics are: loss,accuracy,val_loss,val_accuracy,lr\n"
     ]
    },
    {
     "name": "stderr",
     "output_type": "stream",
     "text": [
      "WARNING:tensorflow:Learning rate reduction is conditioned on metric `val_acc` which is not available. Available metrics are: loss,accuracy,val_loss,val_accuracy,lr\n"
     ]
    },
    {
     "name": "stdout",
     "output_type": "stream",
     "text": [
      "500/500 - 6s - loss: 0.0748 - accuracy: 0.9786 - val_loss: 0.0372 - val_accuracy: 0.9875 - lr: 2.9513e-08 - 6s/epoch - 13ms/step\n",
      "Epoch 19/100\n",
      "WARNING:tensorflow:Learning rate reduction is conditioned on metric `val_acc` which is not available. Available metrics are: loss,accuracy,val_loss,val_accuracy,lr\n"
     ]
    },
    {
     "name": "stderr",
     "output_type": "stream",
     "text": [
      "WARNING:tensorflow:Learning rate reduction is conditioned on metric `val_acc` which is not available. Available metrics are: loss,accuracy,val_loss,val_accuracy,lr\n"
     ]
    },
    {
     "name": "stdout",
     "output_type": "stream",
     "text": [
      "500/500 - 6s - loss: 0.0698 - accuracy: 0.9805 - val_loss: 0.0372 - val_accuracy: 0.9875 - lr: 2.9513e-08 - 6s/epoch - 13ms/step\n",
      "Epoch 20/100\n",
      "WARNING:tensorflow:Learning rate reduction is conditioned on metric `val_acc` which is not available. Available metrics are: loss,accuracy,val_loss,val_accuracy,lr\n"
     ]
    },
    {
     "name": "stderr",
     "output_type": "stream",
     "text": [
      "WARNING:tensorflow:Learning rate reduction is conditioned on metric `val_acc` which is not available. Available metrics are: loss,accuracy,val_loss,val_accuracy,lr\n"
     ]
    },
    {
     "name": "stdout",
     "output_type": "stream",
     "text": [
      "500/500 - 6s - loss: 0.0584 - accuracy: 0.9816 - val_loss: 0.0372 - val_accuracy: 0.9875 - lr: 2.9513e-08 - 6s/epoch - 13ms/step\n",
      "Epoch 21/100\n",
      "WARNING:tensorflow:Learning rate reduction is conditioned on metric `val_acc` which is not available. Available metrics are: loss,accuracy,val_loss,val_accuracy,lr\n"
     ]
    },
    {
     "name": "stderr",
     "output_type": "stream",
     "text": [
      "WARNING:tensorflow:Learning rate reduction is conditioned on metric `val_acc` which is not available. Available metrics are: loss,accuracy,val_loss,val_accuracy,lr\n"
     ]
    },
    {
     "name": "stdout",
     "output_type": "stream",
     "text": [
      "500/500 - 6s - loss: 0.0622 - accuracy: 0.9809 - val_loss: 0.0372 - val_accuracy: 0.9875 - lr: 2.9513e-08 - 6s/epoch - 13ms/step\n",
      "Epoch 22/100\n",
      "WARNING:tensorflow:Learning rate reduction is conditioned on metric `val_acc` which is not available. Available metrics are: loss,accuracy,val_loss,val_accuracy,lr\n"
     ]
    },
    {
     "name": "stderr",
     "output_type": "stream",
     "text": [
      "WARNING:tensorflow:Learning rate reduction is conditioned on metric `val_acc` which is not available. Available metrics are: loss,accuracy,val_loss,val_accuracy,lr\n"
     ]
    },
    {
     "name": "stdout",
     "output_type": "stream",
     "text": [
      "500/500 - 6s - loss: 0.0669 - accuracy: 0.9810 - val_loss: 0.0372 - val_accuracy: 0.9875 - lr: 2.9513e-08 - 6s/epoch - 13ms/step\n",
      "Epoch 23/100\n",
      "WARNING:tensorflow:Learning rate reduction is conditioned on metric `val_acc` which is not available. Available metrics are: loss,accuracy,val_loss,val_accuracy,lr\n"
     ]
    },
    {
     "name": "stderr",
     "output_type": "stream",
     "text": [
      "WARNING:tensorflow:Learning rate reduction is conditioned on metric `val_acc` which is not available. Available metrics are: loss,accuracy,val_loss,val_accuracy,lr\n"
     ]
    },
    {
     "name": "stdout",
     "output_type": "stream",
     "text": [
      "500/500 - 6s - loss: 0.0641 - accuracy: 0.9804 - val_loss: 0.0372 - val_accuracy: 0.9875 - lr: 2.9513e-08 - 6s/epoch - 13ms/step\n",
      "Epoch 24/100\n",
      "WARNING:tensorflow:Learning rate reduction is conditioned on metric `val_acc` which is not available. Available metrics are: loss,accuracy,val_loss,val_accuracy,lr\n"
     ]
    },
    {
     "name": "stderr",
     "output_type": "stream",
     "text": [
      "WARNING:tensorflow:Learning rate reduction is conditioned on metric `val_acc` which is not available. Available metrics are: loss,accuracy,val_loss,val_accuracy,lr\n"
     ]
    },
    {
     "name": "stdout",
     "output_type": "stream",
     "text": [
      "500/500 - 6s - loss: 0.0677 - accuracy: 0.9794 - val_loss: 0.0372 - val_accuracy: 0.9875 - lr: 2.9513e-08 - 6s/epoch - 13ms/step\n",
      "Epoch 25/100\n",
      "WARNING:tensorflow:Learning rate reduction is conditioned on metric `val_acc` which is not available. Available metrics are: loss,accuracy,val_loss,val_accuracy,lr\n"
     ]
    },
    {
     "name": "stderr",
     "output_type": "stream",
     "text": [
      "WARNING:tensorflow:Learning rate reduction is conditioned on metric `val_acc` which is not available. Available metrics are: loss,accuracy,val_loss,val_accuracy,lr\n"
     ]
    },
    {
     "name": "stdout",
     "output_type": "stream",
     "text": [
      "500/500 - 6s - loss: 0.0701 - accuracy: 0.9804 - val_loss: 0.0372 - val_accuracy: 0.9875 - lr: 2.9513e-08 - 6s/epoch - 13ms/step\n",
      "Epoch 26/100\n",
      "WARNING:tensorflow:Learning rate reduction is conditioned on metric `val_acc` which is not available. Available metrics are: loss,accuracy,val_loss,val_accuracy,lr\n"
     ]
    },
    {
     "name": "stderr",
     "output_type": "stream",
     "text": [
      "WARNING:tensorflow:Learning rate reduction is conditioned on metric `val_acc` which is not available. Available metrics are: loss,accuracy,val_loss,val_accuracy,lr\n"
     ]
    },
    {
     "name": "stdout",
     "output_type": "stream",
     "text": [
      "500/500 - 6s - loss: 0.0717 - accuracy: 0.9797 - val_loss: 0.0372 - val_accuracy: 0.9875 - lr: 2.9513e-08 - 6s/epoch - 13ms/step\n",
      "Epoch 27/100\n",
      "WARNING:tensorflow:Learning rate reduction is conditioned on metric `val_acc` which is not available. Available metrics are: loss,accuracy,val_loss,val_accuracy,lr\n"
     ]
    },
    {
     "name": "stderr",
     "output_type": "stream",
     "text": [
      "WARNING:tensorflow:Learning rate reduction is conditioned on metric `val_acc` which is not available. Available metrics are: loss,accuracy,val_loss,val_accuracy,lr\n"
     ]
    },
    {
     "name": "stdout",
     "output_type": "stream",
     "text": [
      "500/500 - 6s - loss: 0.0610 - accuracy: 0.9811 - val_loss: 0.0372 - val_accuracy: 0.9875 - lr: 2.9513e-08 - 6s/epoch - 13ms/step\n",
      "Epoch 28/100\n",
      "WARNING:tensorflow:Learning rate reduction is conditioned on metric `val_acc` which is not available. Available metrics are: loss,accuracy,val_loss,val_accuracy,lr\n"
     ]
    },
    {
     "name": "stderr",
     "output_type": "stream",
     "text": [
      "WARNING:tensorflow:Learning rate reduction is conditioned on metric `val_acc` which is not available. Available metrics are: loss,accuracy,val_loss,val_accuracy,lr\n"
     ]
    },
    {
     "name": "stdout",
     "output_type": "stream",
     "text": [
      "500/500 - 6s - loss: 0.0662 - accuracy: 0.9799 - val_loss: 0.0372 - val_accuracy: 0.9875 - lr: 2.9513e-08 - 6s/epoch - 13ms/step\n",
      "Epoch 29/100\n",
      "WARNING:tensorflow:Learning rate reduction is conditioned on metric `val_acc` which is not available. Available metrics are: loss,accuracy,val_loss,val_accuracy,lr\n"
     ]
    },
    {
     "name": "stderr",
     "output_type": "stream",
     "text": [
      "WARNING:tensorflow:Learning rate reduction is conditioned on metric `val_acc` which is not available. Available metrics are: loss,accuracy,val_loss,val_accuracy,lr\n"
     ]
    },
    {
     "name": "stdout",
     "output_type": "stream",
     "text": [
      "500/500 - 6s - loss: 0.0679 - accuracy: 0.9794 - val_loss: 0.0372 - val_accuracy: 0.9875 - lr: 2.9513e-08 - 6s/epoch - 13ms/step\n",
      "Epoch 30/100\n",
      "WARNING:tensorflow:Learning rate reduction is conditioned on metric `val_acc` which is not available. Available metrics are: loss,accuracy,val_loss,val_accuracy,lr\n"
     ]
    },
    {
     "name": "stderr",
     "output_type": "stream",
     "text": [
      "WARNING:tensorflow:Learning rate reduction is conditioned on metric `val_acc` which is not available. Available metrics are: loss,accuracy,val_loss,val_accuracy,lr\n"
     ]
    },
    {
     "name": "stdout",
     "output_type": "stream",
     "text": [
      "500/500 - 6s - loss: 0.0685 - accuracy: 0.9805 - val_loss: 0.0372 - val_accuracy: 0.9875 - lr: 2.9513e-08 - 6s/epoch - 13ms/step\n",
      "Epoch 31/100\n",
      "WARNING:tensorflow:Learning rate reduction is conditioned on metric `val_acc` which is not available. Available metrics are: loss,accuracy,val_loss,val_accuracy,lr\n"
     ]
    },
    {
     "name": "stderr",
     "output_type": "stream",
     "text": [
      "WARNING:tensorflow:Learning rate reduction is conditioned on metric `val_acc` which is not available. Available metrics are: loss,accuracy,val_loss,val_accuracy,lr\n"
     ]
    },
    {
     "name": "stdout",
     "output_type": "stream",
     "text": [
      "500/500 - 6s - loss: 0.0767 - accuracy: 0.9780 - val_loss: 0.0372 - val_accuracy: 0.9875 - lr: 2.9513e-08 - 6s/epoch - 13ms/step\n",
      "Epoch 32/100\n",
      "WARNING:tensorflow:Learning rate reduction is conditioned on metric `val_acc` which is not available. Available metrics are: loss,accuracy,val_loss,val_accuracy,lr\n"
     ]
    },
    {
     "name": "stderr",
     "output_type": "stream",
     "text": [
      "WARNING:tensorflow:Learning rate reduction is conditioned on metric `val_acc` which is not available. Available metrics are: loss,accuracy,val_loss,val_accuracy,lr\n"
     ]
    },
    {
     "name": "stdout",
     "output_type": "stream",
     "text": [
      "500/500 - 6s - loss: 0.0642 - accuracy: 0.9794 - val_loss: 0.0372 - val_accuracy: 0.9875 - lr: 2.9513e-08 - 6s/epoch - 13ms/step\n",
      "Epoch 33/100\n",
      "WARNING:tensorflow:Learning rate reduction is conditioned on metric `val_acc` which is not available. Available metrics are: loss,accuracy,val_loss,val_accuracy,lr\n"
     ]
    },
    {
     "name": "stderr",
     "output_type": "stream",
     "text": [
      "WARNING:tensorflow:Learning rate reduction is conditioned on metric `val_acc` which is not available. Available metrics are: loss,accuracy,val_loss,val_accuracy,lr\n"
     ]
    },
    {
     "name": "stdout",
     "output_type": "stream",
     "text": [
      "500/500 - 6s - loss: 0.0727 - accuracy: 0.9787 - val_loss: 0.0371 - val_accuracy: 0.9875 - lr: 2.9513e-08 - 6s/epoch - 13ms/step\n",
      "Epoch 34/100\n",
      "WARNING:tensorflow:Learning rate reduction is conditioned on metric `val_acc` which is not available. Available metrics are: loss,accuracy,val_loss,val_accuracy,lr\n"
     ]
    },
    {
     "name": "stderr",
     "output_type": "stream",
     "text": [
      "WARNING:tensorflow:Learning rate reduction is conditioned on metric `val_acc` which is not available. Available metrics are: loss,accuracy,val_loss,val_accuracy,lr\n"
     ]
    },
    {
     "name": "stdout",
     "output_type": "stream",
     "text": [
      "500/500 - 6s - loss: 0.0732 - accuracy: 0.9790 - val_loss: 0.0371 - val_accuracy: 0.9875 - lr: 2.9513e-08 - 6s/epoch - 13ms/step\n",
      "Epoch 35/100\n",
      "WARNING:tensorflow:Learning rate reduction is conditioned on metric `val_acc` which is not available. Available metrics are: loss,accuracy,val_loss,val_accuracy,lr\n"
     ]
    },
    {
     "name": "stderr",
     "output_type": "stream",
     "text": [
      "WARNING:tensorflow:Learning rate reduction is conditioned on metric `val_acc` which is not available. Available metrics are: loss,accuracy,val_loss,val_accuracy,lr\n"
     ]
    },
    {
     "name": "stdout",
     "output_type": "stream",
     "text": [
      "500/500 - 6s - loss: 0.0839 - accuracy: 0.9778 - val_loss: 0.0371 - val_accuracy: 0.9875 - lr: 2.9513e-08 - 6s/epoch - 13ms/step\n",
      "Epoch 36/100\n",
      "WARNING:tensorflow:Learning rate reduction is conditioned on metric `val_acc` which is not available. Available metrics are: loss,accuracy,val_loss,val_accuracy,lr\n"
     ]
    },
    {
     "name": "stderr",
     "output_type": "stream",
     "text": [
      "WARNING:tensorflow:Learning rate reduction is conditioned on metric `val_acc` which is not available. Available metrics are: loss,accuracy,val_loss,val_accuracy,lr\n"
     ]
    },
    {
     "name": "stdout",
     "output_type": "stream",
     "text": [
      "500/500 - 6s - loss: 0.0723 - accuracy: 0.9774 - val_loss: 0.0371 - val_accuracy: 0.9875 - lr: 2.9513e-08 - 6s/epoch - 13ms/step\n",
      "Epoch 37/100\n",
      "WARNING:tensorflow:Learning rate reduction is conditioned on metric `val_acc` which is not available. Available metrics are: loss,accuracy,val_loss,val_accuracy,lr\n"
     ]
    },
    {
     "name": "stderr",
     "output_type": "stream",
     "text": [
      "WARNING:tensorflow:Learning rate reduction is conditioned on metric `val_acc` which is not available. Available metrics are: loss,accuracy,val_loss,val_accuracy,lr\n"
     ]
    },
    {
     "name": "stdout",
     "output_type": "stream",
     "text": [
      "500/500 - 6s - loss: 0.0642 - accuracy: 0.9808 - val_loss: 0.0371 - val_accuracy: 0.9875 - lr: 2.9513e-08 - 6s/epoch - 13ms/step\n",
      "Epoch 38/100\n",
      "WARNING:tensorflow:Learning rate reduction is conditioned on metric `val_acc` which is not available. Available metrics are: loss,accuracy,val_loss,val_accuracy,lr\n"
     ]
    },
    {
     "name": "stderr",
     "output_type": "stream",
     "text": [
      "WARNING:tensorflow:Learning rate reduction is conditioned on metric `val_acc` which is not available. Available metrics are: loss,accuracy,val_loss,val_accuracy,lr\n"
     ]
    },
    {
     "name": "stdout",
     "output_type": "stream",
     "text": [
      "500/500 - 6s - loss: 0.0699 - accuracy: 0.9795 - val_loss: 0.0371 - val_accuracy: 0.9875 - lr: 2.9513e-08 - 6s/epoch - 13ms/step\n",
      "Epoch 39/100\n",
      "WARNING:tensorflow:Learning rate reduction is conditioned on metric `val_acc` which is not available. Available metrics are: loss,accuracy,val_loss,val_accuracy,lr\n"
     ]
    },
    {
     "name": "stderr",
     "output_type": "stream",
     "text": [
      "WARNING:tensorflow:Learning rate reduction is conditioned on metric `val_acc` which is not available. Available metrics are: loss,accuracy,val_loss,val_accuracy,lr\n"
     ]
    },
    {
     "name": "stdout",
     "output_type": "stream",
     "text": [
      "500/500 - 6s - loss: 0.0610 - accuracy: 0.9817 - val_loss: 0.0371 - val_accuracy: 0.9875 - lr: 2.9513e-08 - 6s/epoch - 13ms/step\n",
      "Epoch 40/100\n",
      "WARNING:tensorflow:Learning rate reduction is conditioned on metric `val_acc` which is not available. Available metrics are: loss,accuracy,val_loss,val_accuracy,lr\n"
     ]
    },
    {
     "name": "stderr",
     "output_type": "stream",
     "text": [
      "WARNING:tensorflow:Learning rate reduction is conditioned on metric `val_acc` which is not available. Available metrics are: loss,accuracy,val_loss,val_accuracy,lr\n"
     ]
    },
    {
     "name": "stdout",
     "output_type": "stream",
     "text": [
      "500/500 - 6s - loss: 0.0737 - accuracy: 0.9800 - val_loss: 0.0371 - val_accuracy: 0.9875 - lr: 2.9513e-08 - 6s/epoch - 13ms/step\n",
      "Epoch 41/100\n",
      "WARNING:tensorflow:Learning rate reduction is conditioned on metric `val_acc` which is not available. Available metrics are: loss,accuracy,val_loss,val_accuracy,lr\n"
     ]
    },
    {
     "name": "stderr",
     "output_type": "stream",
     "text": [
      "WARNING:tensorflow:Learning rate reduction is conditioned on metric `val_acc` which is not available. Available metrics are: loss,accuracy,val_loss,val_accuracy,lr\n"
     ]
    },
    {
     "name": "stdout",
     "output_type": "stream",
     "text": [
      "500/500 - 6s - loss: 0.0644 - accuracy: 0.9796 - val_loss: 0.0371 - val_accuracy: 0.9875 - lr: 2.9513e-08 - 6s/epoch - 13ms/step\n",
      "Epoch 42/100\n",
      "WARNING:tensorflow:Learning rate reduction is conditioned on metric `val_acc` which is not available. Available metrics are: loss,accuracy,val_loss,val_accuracy,lr\n"
     ]
    },
    {
     "name": "stderr",
     "output_type": "stream",
     "text": [
      "WARNING:tensorflow:Learning rate reduction is conditioned on metric `val_acc` which is not available. Available metrics are: loss,accuracy,val_loss,val_accuracy,lr\n"
     ]
    },
    {
     "name": "stdout",
     "output_type": "stream",
     "text": [
      "500/500 - 6s - loss: 0.0705 - accuracy: 0.9803 - val_loss: 0.0371 - val_accuracy: 0.9875 - lr: 2.9513e-08 - 6s/epoch - 13ms/step\n",
      "Epoch 43/100\n",
      "WARNING:tensorflow:Learning rate reduction is conditioned on metric `val_acc` which is not available. Available metrics are: loss,accuracy,val_loss,val_accuracy,lr\n"
     ]
    },
    {
     "name": "stderr",
     "output_type": "stream",
     "text": [
      "WARNING:tensorflow:Learning rate reduction is conditioned on metric `val_acc` which is not available. Available metrics are: loss,accuracy,val_loss,val_accuracy,lr\n"
     ]
    },
    {
     "name": "stdout",
     "output_type": "stream",
     "text": [
      "500/500 - 6s - loss: 0.0645 - accuracy: 0.9806 - val_loss: 0.0371 - val_accuracy: 0.9875 - lr: 2.9513e-08 - 6s/epoch - 13ms/step\n",
      "Epoch 44/100\n",
      "WARNING:tensorflow:Learning rate reduction is conditioned on metric `val_acc` which is not available. Available metrics are: loss,accuracy,val_loss,val_accuracy,lr\n"
     ]
    },
    {
     "name": "stderr",
     "output_type": "stream",
     "text": [
      "WARNING:tensorflow:Learning rate reduction is conditioned on metric `val_acc` which is not available. Available metrics are: loss,accuracy,val_loss,val_accuracy,lr\n"
     ]
    },
    {
     "name": "stdout",
     "output_type": "stream",
     "text": [
      "500/500 - 6s - loss: 0.0666 - accuracy: 0.9811 - val_loss: 0.0371 - val_accuracy: 0.9875 - lr: 2.9513e-08 - 6s/epoch - 13ms/step\n",
      "Epoch 45/100\n",
      "WARNING:tensorflow:Learning rate reduction is conditioned on metric `val_acc` which is not available. Available metrics are: loss,accuracy,val_loss,val_accuracy,lr\n"
     ]
    },
    {
     "name": "stderr",
     "output_type": "stream",
     "text": [
      "WARNING:tensorflow:Learning rate reduction is conditioned on metric `val_acc` which is not available. Available metrics are: loss,accuracy,val_loss,val_accuracy,lr\n"
     ]
    },
    {
     "name": "stdout",
     "output_type": "stream",
     "text": [
      "500/500 - 6s - loss: 0.0625 - accuracy: 0.9814 - val_loss: 0.0371 - val_accuracy: 0.9875 - lr: 2.9513e-08 - 6s/epoch - 13ms/step\n",
      "Epoch 46/100\n",
      "WARNING:tensorflow:Learning rate reduction is conditioned on metric `val_acc` which is not available. Available metrics are: loss,accuracy,val_loss,val_accuracy,lr\n"
     ]
    },
    {
     "name": "stderr",
     "output_type": "stream",
     "text": [
      "WARNING:tensorflow:Learning rate reduction is conditioned on metric `val_acc` which is not available. Available metrics are: loss,accuracy,val_loss,val_accuracy,lr\n"
     ]
    },
    {
     "name": "stdout",
     "output_type": "stream",
     "text": [
      "500/500 - 6s - loss: 0.0762 - accuracy: 0.9787 - val_loss: 0.0371 - val_accuracy: 0.9875 - lr: 2.9513e-08 - 6s/epoch - 13ms/step\n",
      "Epoch 47/100\n",
      "WARNING:tensorflow:Learning rate reduction is conditioned on metric `val_acc` which is not available. Available metrics are: loss,accuracy,val_loss,val_accuracy,lr\n"
     ]
    },
    {
     "name": "stderr",
     "output_type": "stream",
     "text": [
      "WARNING:tensorflow:Learning rate reduction is conditioned on metric `val_acc` which is not available. Available metrics are: loss,accuracy,val_loss,val_accuracy,lr\n"
     ]
    },
    {
     "name": "stdout",
     "output_type": "stream",
     "text": [
      "500/500 - 6s - loss: 0.0677 - accuracy: 0.9808 - val_loss: 0.0371 - val_accuracy: 0.9875 - lr: 2.9513e-08 - 6s/epoch - 13ms/step\n",
      "Epoch 48/100\n",
      "WARNING:tensorflow:Learning rate reduction is conditioned on metric `val_acc` which is not available. Available metrics are: loss,accuracy,val_loss,val_accuracy,lr\n"
     ]
    },
    {
     "name": "stderr",
     "output_type": "stream",
     "text": [
      "WARNING:tensorflow:Learning rate reduction is conditioned on metric `val_acc` which is not available. Available metrics are: loss,accuracy,val_loss,val_accuracy,lr\n"
     ]
    },
    {
     "name": "stdout",
     "output_type": "stream",
     "text": [
      "500/500 - 6s - loss: 0.0726 - accuracy: 0.9797 - val_loss: 0.0371 - val_accuracy: 0.9875 - lr: 2.9513e-08 - 6s/epoch - 13ms/step\n",
      "Epoch 49/100\n",
      "WARNING:tensorflow:Learning rate reduction is conditioned on metric `val_acc` which is not available. Available metrics are: loss,accuracy,val_loss,val_accuracy,lr\n"
     ]
    },
    {
     "name": "stderr",
     "output_type": "stream",
     "text": [
      "WARNING:tensorflow:Learning rate reduction is conditioned on metric `val_acc` which is not available. Available metrics are: loss,accuracy,val_loss,val_accuracy,lr\n"
     ]
    },
    {
     "name": "stdout",
     "output_type": "stream",
     "text": [
      "500/500 - 6s - loss: 0.0729 - accuracy: 0.9803 - val_loss: 0.0371 - val_accuracy: 0.9875 - lr: 2.9513e-08 - 6s/epoch - 13ms/step\n",
      "Epoch 50/100\n",
      "WARNING:tensorflow:Learning rate reduction is conditioned on metric `val_acc` which is not available. Available metrics are: loss,accuracy,val_loss,val_accuracy,lr\n"
     ]
    },
    {
     "name": "stderr",
     "output_type": "stream",
     "text": [
      "WARNING:tensorflow:Learning rate reduction is conditioned on metric `val_acc` which is not available. Available metrics are: loss,accuracy,val_loss,val_accuracy,lr\n"
     ]
    },
    {
     "name": "stdout",
     "output_type": "stream",
     "text": [
      "500/500 - 6s - loss: 0.0608 - accuracy: 0.9811 - val_loss: 0.0371 - val_accuracy: 0.9875 - lr: 2.9513e-08 - 6s/epoch - 13ms/step\n",
      "Epoch 51/100\n",
      "WARNING:tensorflow:Learning rate reduction is conditioned on metric `val_acc` which is not available. Available metrics are: loss,accuracy,val_loss,val_accuracy,lr\n"
     ]
    },
    {
     "name": "stderr",
     "output_type": "stream",
     "text": [
      "WARNING:tensorflow:Learning rate reduction is conditioned on metric `val_acc` which is not available. Available metrics are: loss,accuracy,val_loss,val_accuracy,lr\n"
     ]
    },
    {
     "name": "stdout",
     "output_type": "stream",
     "text": [
      "500/500 - 6s - loss: 0.0692 - accuracy: 0.9810 - val_loss: 0.0370 - val_accuracy: 0.9875 - lr: 2.9513e-08 - 6s/epoch - 13ms/step\n",
      "Epoch 52/100\n",
      "WARNING:tensorflow:Learning rate reduction is conditioned on metric `val_acc` which is not available. Available metrics are: loss,accuracy,val_loss,val_accuracy,lr\n"
     ]
    },
    {
     "name": "stderr",
     "output_type": "stream",
     "text": [
      "WARNING:tensorflow:Learning rate reduction is conditioned on metric `val_acc` which is not available. Available metrics are: loss,accuracy,val_loss,val_accuracy,lr\n"
     ]
    },
    {
     "name": "stdout",
     "output_type": "stream",
     "text": [
      "500/500 - 6s - loss: 0.0737 - accuracy: 0.9781 - val_loss: 0.0370 - val_accuracy: 0.9875 - lr: 2.9513e-08 - 6s/epoch - 13ms/step\n",
      "Epoch 53/100\n",
      "WARNING:tensorflow:Learning rate reduction is conditioned on metric `val_acc` which is not available. Available metrics are: loss,accuracy,val_loss,val_accuracy,lr\n"
     ]
    },
    {
     "name": "stderr",
     "output_type": "stream",
     "text": [
      "WARNING:tensorflow:Learning rate reduction is conditioned on metric `val_acc` which is not available. Available metrics are: loss,accuracy,val_loss,val_accuracy,lr\n"
     ]
    },
    {
     "name": "stdout",
     "output_type": "stream",
     "text": [
      "500/500 - 6s - loss: 0.0689 - accuracy: 0.9814 - val_loss: 0.0370 - val_accuracy: 0.9875 - lr: 2.9513e-08 - 6s/epoch - 13ms/step\n",
      "Epoch 54/100\n",
      "WARNING:tensorflow:Learning rate reduction is conditioned on metric `val_acc` which is not available. Available metrics are: loss,accuracy,val_loss,val_accuracy,lr\n"
     ]
    },
    {
     "name": "stderr",
     "output_type": "stream",
     "text": [
      "WARNING:tensorflow:Learning rate reduction is conditioned on metric `val_acc` which is not available. Available metrics are: loss,accuracy,val_loss,val_accuracy,lr\n"
     ]
    },
    {
     "name": "stdout",
     "output_type": "stream",
     "text": [
      "500/500 - 6s - loss: 0.0720 - accuracy: 0.9791 - val_loss: 0.0370 - val_accuracy: 0.9875 - lr: 2.9513e-08 - 6s/epoch - 13ms/step\n",
      "Epoch 55/100\n",
      "WARNING:tensorflow:Learning rate reduction is conditioned on metric `val_acc` which is not available. Available metrics are: loss,accuracy,val_loss,val_accuracy,lr\n"
     ]
    },
    {
     "name": "stderr",
     "output_type": "stream",
     "text": [
      "WARNING:tensorflow:Learning rate reduction is conditioned on metric `val_acc` which is not available. Available metrics are: loss,accuracy,val_loss,val_accuracy,lr\n"
     ]
    },
    {
     "name": "stdout",
     "output_type": "stream",
     "text": [
      "500/500 - 6s - loss: 0.0696 - accuracy: 0.9805 - val_loss: 0.0370 - val_accuracy: 0.9875 - lr: 2.9513e-08 - 6s/epoch - 13ms/step\n",
      "Epoch 56/100\n",
      "WARNING:tensorflow:Learning rate reduction is conditioned on metric `val_acc` which is not available. Available metrics are: loss,accuracy,val_loss,val_accuracy,lr\n"
     ]
    },
    {
     "name": "stderr",
     "output_type": "stream",
     "text": [
      "WARNING:tensorflow:Learning rate reduction is conditioned on metric `val_acc` which is not available. Available metrics are: loss,accuracy,val_loss,val_accuracy,lr\n"
     ]
    },
    {
     "name": "stdout",
     "output_type": "stream",
     "text": [
      "500/500 - 6s - loss: 0.0680 - accuracy: 0.9800 - val_loss: 0.0370 - val_accuracy: 0.9875 - lr: 2.9513e-08 - 6s/epoch - 13ms/step\n",
      "Epoch 57/100\n",
      "WARNING:tensorflow:Learning rate reduction is conditioned on metric `val_acc` which is not available. Available metrics are: loss,accuracy,val_loss,val_accuracy,lr\n"
     ]
    },
    {
     "name": "stderr",
     "output_type": "stream",
     "text": [
      "WARNING:tensorflow:Learning rate reduction is conditioned on metric `val_acc` which is not available. Available metrics are: loss,accuracy,val_loss,val_accuracy,lr\n"
     ]
    },
    {
     "name": "stdout",
     "output_type": "stream",
     "text": [
      "500/500 - 6s - loss: 0.0725 - accuracy: 0.9800 - val_loss: 0.0370 - val_accuracy: 0.9875 - lr: 2.9513e-08 - 6s/epoch - 13ms/step\n",
      "Epoch 58/100\n",
      "WARNING:tensorflow:Learning rate reduction is conditioned on metric `val_acc` which is not available. Available metrics are: loss,accuracy,val_loss,val_accuracy,lr\n"
     ]
    },
    {
     "name": "stderr",
     "output_type": "stream",
     "text": [
      "WARNING:tensorflow:Learning rate reduction is conditioned on metric `val_acc` which is not available. Available metrics are: loss,accuracy,val_loss,val_accuracy,lr\n"
     ]
    },
    {
     "name": "stdout",
     "output_type": "stream",
     "text": [
      "500/500 - 6s - loss: 0.0787 - accuracy: 0.9769 - val_loss: 0.0371 - val_accuracy: 0.9875 - lr: 2.9513e-08 - 6s/epoch - 13ms/step\n",
      "Epoch 59/100\n",
      "WARNING:tensorflow:Learning rate reduction is conditioned on metric `val_acc` which is not available. Available metrics are: loss,accuracy,val_loss,val_accuracy,lr\n"
     ]
    },
    {
     "name": "stderr",
     "output_type": "stream",
     "text": [
      "WARNING:tensorflow:Learning rate reduction is conditioned on metric `val_acc` which is not available. Available metrics are: loss,accuracy,val_loss,val_accuracy,lr\n"
     ]
    },
    {
     "name": "stdout",
     "output_type": "stream",
     "text": [
      "500/500 - 6s - loss: 0.0600 - accuracy: 0.9820 - val_loss: 0.0371 - val_accuracy: 0.9875 - lr: 2.9513e-08 - 6s/epoch - 13ms/step\n",
      "Epoch 60/100\n",
      "WARNING:tensorflow:Learning rate reduction is conditioned on metric `val_acc` which is not available. Available metrics are: loss,accuracy,val_loss,val_accuracy,lr\n"
     ]
    },
    {
     "name": "stderr",
     "output_type": "stream",
     "text": [
      "WARNING:tensorflow:Learning rate reduction is conditioned on metric `val_acc` which is not available. Available metrics are: loss,accuracy,val_loss,val_accuracy,lr\n"
     ]
    },
    {
     "name": "stdout",
     "output_type": "stream",
     "text": [
      "500/500 - 6s - loss: 0.0668 - accuracy: 0.9804 - val_loss: 0.0370 - val_accuracy: 0.9875 - lr: 2.9513e-08 - 6s/epoch - 13ms/step\n",
      "Epoch 61/100\n",
      "WARNING:tensorflow:Learning rate reduction is conditioned on metric `val_acc` which is not available. Available metrics are: loss,accuracy,val_loss,val_accuracy,lr\n"
     ]
    },
    {
     "name": "stderr",
     "output_type": "stream",
     "text": [
      "WARNING:tensorflow:Learning rate reduction is conditioned on metric `val_acc` which is not available. Available metrics are: loss,accuracy,val_loss,val_accuracy,lr\n"
     ]
    },
    {
     "name": "stdout",
     "output_type": "stream",
     "text": [
      "500/500 - 6s - loss: 0.0677 - accuracy: 0.9795 - val_loss: 0.0370 - val_accuracy: 0.9875 - lr: 2.9513e-08 - 6s/epoch - 13ms/step\n",
      "Epoch 62/100\n",
      "WARNING:tensorflow:Learning rate reduction is conditioned on metric `val_acc` which is not available. Available metrics are: loss,accuracy,val_loss,val_accuracy,lr\n"
     ]
    },
    {
     "name": "stderr",
     "output_type": "stream",
     "text": [
      "WARNING:tensorflow:Learning rate reduction is conditioned on metric `val_acc` which is not available. Available metrics are: loss,accuracy,val_loss,val_accuracy,lr\n"
     ]
    },
    {
     "name": "stdout",
     "output_type": "stream",
     "text": [
      "500/500 - 6s - loss: 0.0696 - accuracy: 0.9801 - val_loss: 0.0370 - val_accuracy: 0.9875 - lr: 2.9513e-08 - 6s/epoch - 13ms/step\n",
      "Epoch 63/100\n",
      "WARNING:tensorflow:Learning rate reduction is conditioned on metric `val_acc` which is not available. Available metrics are: loss,accuracy,val_loss,val_accuracy,lr\n"
     ]
    },
    {
     "name": "stderr",
     "output_type": "stream",
     "text": [
      "WARNING:tensorflow:Learning rate reduction is conditioned on metric `val_acc` which is not available. Available metrics are: loss,accuracy,val_loss,val_accuracy,lr\n"
     ]
    },
    {
     "name": "stdout",
     "output_type": "stream",
     "text": [
      "500/500 - 6s - loss: 0.0808 - accuracy: 0.9779 - val_loss: 0.0370 - val_accuracy: 0.9875 - lr: 2.9513e-08 - 6s/epoch - 13ms/step\n",
      "Epoch 64/100\n",
      "WARNING:tensorflow:Learning rate reduction is conditioned on metric `val_acc` which is not available. Available metrics are: loss,accuracy,val_loss,val_accuracy,lr\n"
     ]
    },
    {
     "name": "stderr",
     "output_type": "stream",
     "text": [
      "WARNING:tensorflow:Learning rate reduction is conditioned on metric `val_acc` which is not available. Available metrics are: loss,accuracy,val_loss,val_accuracy,lr\n"
     ]
    },
    {
     "name": "stdout",
     "output_type": "stream",
     "text": [
      "500/500 - 6s - loss: 0.0678 - accuracy: 0.9809 - val_loss: 0.0370 - val_accuracy: 0.9875 - lr: 2.9513e-08 - 6s/epoch - 13ms/step\n",
      "Epoch 65/100\n",
      "WARNING:tensorflow:Learning rate reduction is conditioned on metric `val_acc` which is not available. Available metrics are: loss,accuracy,val_loss,val_accuracy,lr\n"
     ]
    },
    {
     "name": "stderr",
     "output_type": "stream",
     "text": [
      "WARNING:tensorflow:Learning rate reduction is conditioned on metric `val_acc` which is not available. Available metrics are: loss,accuracy,val_loss,val_accuracy,lr\n"
     ]
    },
    {
     "name": "stdout",
     "output_type": "stream",
     "text": [
      "500/500 - 6s - loss: 0.0717 - accuracy: 0.9786 - val_loss: 0.0370 - val_accuracy: 0.9875 - lr: 2.9513e-08 - 6s/epoch - 13ms/step\n",
      "Epoch 66/100\n",
      "WARNING:tensorflow:Learning rate reduction is conditioned on metric `val_acc` which is not available. Available metrics are: loss,accuracy,val_loss,val_accuracy,lr\n"
     ]
    },
    {
     "name": "stderr",
     "output_type": "stream",
     "text": [
      "WARNING:tensorflow:Learning rate reduction is conditioned on metric `val_acc` which is not available. Available metrics are: loss,accuracy,val_loss,val_accuracy,lr\n"
     ]
    },
    {
     "name": "stdout",
     "output_type": "stream",
     "text": [
      "500/500 - 6s - loss: 0.0727 - accuracy: 0.9796 - val_loss: 0.0370 - val_accuracy: 0.9875 - lr: 2.9513e-08 - 6s/epoch - 13ms/step\n",
      "Epoch 67/100\n",
      "WARNING:tensorflow:Learning rate reduction is conditioned on metric `val_acc` which is not available. Available metrics are: loss,accuracy,val_loss,val_accuracy,lr\n"
     ]
    },
    {
     "name": "stderr",
     "output_type": "stream",
     "text": [
      "WARNING:tensorflow:Learning rate reduction is conditioned on metric `val_acc` which is not available. Available metrics are: loss,accuracy,val_loss,val_accuracy,lr\n"
     ]
    },
    {
     "name": "stdout",
     "output_type": "stream",
     "text": [
      "500/500 - 6s - loss: 0.0662 - accuracy: 0.9807 - val_loss: 0.0370 - val_accuracy: 0.9875 - lr: 2.9513e-08 - 6s/epoch - 13ms/step\n",
      "Epoch 68/100\n",
      "WARNING:tensorflow:Learning rate reduction is conditioned on metric `val_acc` which is not available. Available metrics are: loss,accuracy,val_loss,val_accuracy,lr\n"
     ]
    },
    {
     "name": "stderr",
     "output_type": "stream",
     "text": [
      "WARNING:tensorflow:Learning rate reduction is conditioned on metric `val_acc` which is not available. Available metrics are: loss,accuracy,val_loss,val_accuracy,lr\n"
     ]
    },
    {
     "name": "stdout",
     "output_type": "stream",
     "text": [
      "500/500 - 6s - loss: 0.0800 - accuracy: 0.9774 - val_loss: 0.0369 - val_accuracy: 0.9875 - lr: 2.9513e-08 - 6s/epoch - 13ms/step\n",
      "Epoch 69/100\n",
      "WARNING:tensorflow:Learning rate reduction is conditioned on metric `val_acc` which is not available. Available metrics are: loss,accuracy,val_loss,val_accuracy,lr\n"
     ]
    },
    {
     "name": "stderr",
     "output_type": "stream",
     "text": [
      "WARNING:tensorflow:Learning rate reduction is conditioned on metric `val_acc` which is not available. Available metrics are: loss,accuracy,val_loss,val_accuracy,lr\n"
     ]
    },
    {
     "name": "stdout",
     "output_type": "stream",
     "text": [
      "500/500 - 6s - loss: 0.0760 - accuracy: 0.9774 - val_loss: 0.0369 - val_accuracy: 0.9875 - lr: 2.9513e-08 - 6s/epoch - 13ms/step\n",
      "Epoch 70/100\n",
      "WARNING:tensorflow:Learning rate reduction is conditioned on metric `val_acc` which is not available. Available metrics are: loss,accuracy,val_loss,val_accuracy,lr\n"
     ]
    },
    {
     "name": "stderr",
     "output_type": "stream",
     "text": [
      "WARNING:tensorflow:Learning rate reduction is conditioned on metric `val_acc` which is not available. Available metrics are: loss,accuracy,val_loss,val_accuracy,lr\n"
     ]
    },
    {
     "name": "stdout",
     "output_type": "stream",
     "text": [
      "500/500 - 6s - loss: 0.0610 - accuracy: 0.9815 - val_loss: 0.0369 - val_accuracy: 0.9875 - lr: 2.9513e-08 - 6s/epoch - 13ms/step\n",
      "Epoch 71/100\n",
      "WARNING:tensorflow:Learning rate reduction is conditioned on metric `val_acc` which is not available. Available metrics are: loss,accuracy,val_loss,val_accuracy,lr\n"
     ]
    },
    {
     "name": "stderr",
     "output_type": "stream",
     "text": [
      "WARNING:tensorflow:Learning rate reduction is conditioned on metric `val_acc` which is not available. Available metrics are: loss,accuracy,val_loss,val_accuracy,lr\n"
     ]
    },
    {
     "name": "stdout",
     "output_type": "stream",
     "text": [
      "500/500 - 6s - loss: 0.0723 - accuracy: 0.9790 - val_loss: 0.0369 - val_accuracy: 0.9875 - lr: 2.9513e-08 - 6s/epoch - 13ms/step\n",
      "Epoch 72/100\n",
      "WARNING:tensorflow:Learning rate reduction is conditioned on metric `val_acc` which is not available. Available metrics are: loss,accuracy,val_loss,val_accuracy,lr\n"
     ]
    },
    {
     "name": "stderr",
     "output_type": "stream",
     "text": [
      "WARNING:tensorflow:Learning rate reduction is conditioned on metric `val_acc` which is not available. Available metrics are: loss,accuracy,val_loss,val_accuracy,lr\n"
     ]
    },
    {
     "name": "stdout",
     "output_type": "stream",
     "text": [
      "500/500 - 6s - loss: 0.0736 - accuracy: 0.9793 - val_loss: 0.0369 - val_accuracy: 0.9875 - lr: 2.9513e-08 - 6s/epoch - 13ms/step\n",
      "Epoch 73/100\n",
      "WARNING:tensorflow:Learning rate reduction is conditioned on metric `val_acc` which is not available. Available metrics are: loss,accuracy,val_loss,val_accuracy,lr\n"
     ]
    },
    {
     "name": "stderr",
     "output_type": "stream",
     "text": [
      "WARNING:tensorflow:Learning rate reduction is conditioned on metric `val_acc` which is not available. Available metrics are: loss,accuracy,val_loss,val_accuracy,lr\n"
     ]
    },
    {
     "name": "stdout",
     "output_type": "stream",
     "text": [
      "500/500 - 7s - loss: 0.0781 - accuracy: 0.9775 - val_loss: 0.0369 - val_accuracy: 0.9875 - lr: 2.9513e-08 - 7s/epoch - 13ms/step\n",
      "Epoch 74/100\n",
      "WARNING:tensorflow:Learning rate reduction is conditioned on metric `val_acc` which is not available. Available metrics are: loss,accuracy,val_loss,val_accuracy,lr\n"
     ]
    },
    {
     "name": "stderr",
     "output_type": "stream",
     "text": [
      "WARNING:tensorflow:Learning rate reduction is conditioned on metric `val_acc` which is not available. Available metrics are: loss,accuracy,val_loss,val_accuracy,lr\n"
     ]
    },
    {
     "name": "stdout",
     "output_type": "stream",
     "text": [
      "500/500 - 6s - loss: 0.0713 - accuracy: 0.9790 - val_loss: 0.0369 - val_accuracy: 0.9875 - lr: 2.9513e-08 - 6s/epoch - 13ms/step\n",
      "Epoch 75/100\n",
      "WARNING:tensorflow:Learning rate reduction is conditioned on metric `val_acc` which is not available. Available metrics are: loss,accuracy,val_loss,val_accuracy,lr\n"
     ]
    },
    {
     "name": "stderr",
     "output_type": "stream",
     "text": [
      "WARNING:tensorflow:Learning rate reduction is conditioned on metric `val_acc` which is not available. Available metrics are: loss,accuracy,val_loss,val_accuracy,lr\n"
     ]
    },
    {
     "name": "stdout",
     "output_type": "stream",
     "text": [
      "500/500 - 6s - loss: 0.0769 - accuracy: 0.9768 - val_loss: 0.0369 - val_accuracy: 0.9875 - lr: 2.9513e-08 - 6s/epoch - 13ms/step\n",
      "Epoch 76/100\n",
      "WARNING:tensorflow:Learning rate reduction is conditioned on metric `val_acc` which is not available. Available metrics are: loss,accuracy,val_loss,val_accuracy,lr\n"
     ]
    },
    {
     "name": "stderr",
     "output_type": "stream",
     "text": [
      "WARNING:tensorflow:Learning rate reduction is conditioned on metric `val_acc` which is not available. Available metrics are: loss,accuracy,val_loss,val_accuracy,lr\n"
     ]
    },
    {
     "name": "stdout",
     "output_type": "stream",
     "text": [
      "500/500 - 6s - loss: 0.0731 - accuracy: 0.9785 - val_loss: 0.0369 - val_accuracy: 0.9875 - lr: 2.9513e-08 - 6s/epoch - 13ms/step\n",
      "Epoch 77/100\n",
      "WARNING:tensorflow:Learning rate reduction is conditioned on metric `val_acc` which is not available. Available metrics are: loss,accuracy,val_loss,val_accuracy,lr\n"
     ]
    },
    {
     "name": "stderr",
     "output_type": "stream",
     "text": [
      "WARNING:tensorflow:Learning rate reduction is conditioned on metric `val_acc` which is not available. Available metrics are: loss,accuracy,val_loss,val_accuracy,lr\n"
     ]
    },
    {
     "name": "stdout",
     "output_type": "stream",
     "text": [
      "500/500 - 6s - loss: 0.0612 - accuracy: 0.9812 - val_loss: 0.0369 - val_accuracy: 0.9875 - lr: 2.9513e-08 - 6s/epoch - 12ms/step\n",
      "Epoch 78/100\n",
      "WARNING:tensorflow:Learning rate reduction is conditioned on metric `val_acc` which is not available. Available metrics are: loss,accuracy,val_loss,val_accuracy,lr\n"
     ]
    },
    {
     "name": "stderr",
     "output_type": "stream",
     "text": [
      "WARNING:tensorflow:Learning rate reduction is conditioned on metric `val_acc` which is not available. Available metrics are: loss,accuracy,val_loss,val_accuracy,lr\n"
     ]
    },
    {
     "name": "stdout",
     "output_type": "stream",
     "text": [
      "500/500 - 6s - loss: 0.0659 - accuracy: 0.9801 - val_loss: 0.0369 - val_accuracy: 0.9875 - lr: 2.9513e-08 - 6s/epoch - 13ms/step\n",
      "Epoch 79/100\n",
      "WARNING:tensorflow:Learning rate reduction is conditioned on metric `val_acc` which is not available. Available metrics are: loss,accuracy,val_loss,val_accuracy,lr\n"
     ]
    },
    {
     "name": "stderr",
     "output_type": "stream",
     "text": [
      "WARNING:tensorflow:Learning rate reduction is conditioned on metric `val_acc` which is not available. Available metrics are: loss,accuracy,val_loss,val_accuracy,lr\n"
     ]
    },
    {
     "name": "stdout",
     "output_type": "stream",
     "text": [
      "500/500 - 6s - loss: 0.0711 - accuracy: 0.9787 - val_loss: 0.0369 - val_accuracy: 0.9875 - lr: 2.9513e-08 - 6s/epoch - 13ms/step\n",
      "Epoch 80/100\n",
      "WARNING:tensorflow:Learning rate reduction is conditioned on metric `val_acc` which is not available. Available metrics are: loss,accuracy,val_loss,val_accuracy,lr\n"
     ]
    },
    {
     "name": "stderr",
     "output_type": "stream",
     "text": [
      "WARNING:tensorflow:Learning rate reduction is conditioned on metric `val_acc` which is not available. Available metrics are: loss,accuracy,val_loss,val_accuracy,lr\n"
     ]
    },
    {
     "name": "stdout",
     "output_type": "stream",
     "text": [
      "500/500 - 6s - loss: 0.0694 - accuracy: 0.9799 - val_loss: 0.0369 - val_accuracy: 0.9875 - lr: 2.9513e-08 - 6s/epoch - 13ms/step\n",
      "Epoch 81/100\n",
      "WARNING:tensorflow:Learning rate reduction is conditioned on metric `val_acc` which is not available. Available metrics are: loss,accuracy,val_loss,val_accuracy,lr\n"
     ]
    },
    {
     "name": "stderr",
     "output_type": "stream",
     "text": [
      "WARNING:tensorflow:Learning rate reduction is conditioned on metric `val_acc` which is not available. Available metrics are: loss,accuracy,val_loss,val_accuracy,lr\n"
     ]
    },
    {
     "name": "stdout",
     "output_type": "stream",
     "text": [
      "500/500 - 6s - loss: 0.0689 - accuracy: 0.9787 - val_loss: 0.0369 - val_accuracy: 0.9875 - lr: 2.9513e-08 - 6s/epoch - 13ms/step\n",
      "Epoch 82/100\n",
      "WARNING:tensorflow:Learning rate reduction is conditioned on metric `val_acc` which is not available. Available metrics are: loss,accuracy,val_loss,val_accuracy,lr\n"
     ]
    },
    {
     "name": "stderr",
     "output_type": "stream",
     "text": [
      "WARNING:tensorflow:Learning rate reduction is conditioned on metric `val_acc` which is not available. Available metrics are: loss,accuracy,val_loss,val_accuracy,lr\n"
     ]
    },
    {
     "name": "stdout",
     "output_type": "stream",
     "text": [
      "500/500 - 6s - loss: 0.0738 - accuracy: 0.9791 - val_loss: 0.0369 - val_accuracy: 0.9875 - lr: 2.9513e-08 - 6s/epoch - 13ms/step\n",
      "Epoch 83/100\n",
      "WARNING:tensorflow:Learning rate reduction is conditioned on metric `val_acc` which is not available. Available metrics are: loss,accuracy,val_loss,val_accuracy,lr\n"
     ]
    },
    {
     "name": "stderr",
     "output_type": "stream",
     "text": [
      "WARNING:tensorflow:Learning rate reduction is conditioned on metric `val_acc` which is not available. Available metrics are: loss,accuracy,val_loss,val_accuracy,lr\n"
     ]
    },
    {
     "name": "stdout",
     "output_type": "stream",
     "text": [
      "500/500 - 6s - loss: 0.0683 - accuracy: 0.9801 - val_loss: 0.0369 - val_accuracy: 0.9875 - lr: 2.9513e-08 - 6s/epoch - 13ms/step\n",
      "Epoch 84/100\n",
      "WARNING:tensorflow:Learning rate reduction is conditioned on metric `val_acc` which is not available. Available metrics are: loss,accuracy,val_loss,val_accuracy,lr\n"
     ]
    },
    {
     "name": "stderr",
     "output_type": "stream",
     "text": [
      "WARNING:tensorflow:Learning rate reduction is conditioned on metric `val_acc` which is not available. Available metrics are: loss,accuracy,val_loss,val_accuracy,lr\n"
     ]
    },
    {
     "name": "stdout",
     "output_type": "stream",
     "text": [
      "500/500 - 6s - loss: 0.0689 - accuracy: 0.9808 - val_loss: 0.0369 - val_accuracy: 0.9875 - lr: 2.9513e-08 - 6s/epoch - 13ms/step\n",
      "Epoch 85/100\n",
      "WARNING:tensorflow:Learning rate reduction is conditioned on metric `val_acc` which is not available. Available metrics are: loss,accuracy,val_loss,val_accuracy,lr\n"
     ]
    },
    {
     "name": "stderr",
     "output_type": "stream",
     "text": [
      "WARNING:tensorflow:Learning rate reduction is conditioned on metric `val_acc` which is not available. Available metrics are: loss,accuracy,val_loss,val_accuracy,lr\n"
     ]
    },
    {
     "name": "stdout",
     "output_type": "stream",
     "text": [
      "500/500 - 6s - loss: 0.0692 - accuracy: 0.9804 - val_loss: 0.0369 - val_accuracy: 0.9875 - lr: 2.9513e-08 - 6s/epoch - 12ms/step\n",
      "Epoch 86/100\n",
      "WARNING:tensorflow:Learning rate reduction is conditioned on metric `val_acc` which is not available. Available metrics are: loss,accuracy,val_loss,val_accuracy,lr\n"
     ]
    },
    {
     "name": "stderr",
     "output_type": "stream",
     "text": [
      "WARNING:tensorflow:Learning rate reduction is conditioned on metric `val_acc` which is not available. Available metrics are: loss,accuracy,val_loss,val_accuracy,lr\n"
     ]
    },
    {
     "name": "stdout",
     "output_type": "stream",
     "text": [
      "500/500 - 6s - loss: 0.0678 - accuracy: 0.9797 - val_loss: 0.0369 - val_accuracy: 0.9875 - lr: 2.9513e-08 - 6s/epoch - 13ms/step\n",
      "Epoch 87/100\n",
      "WARNING:tensorflow:Learning rate reduction is conditioned on metric `val_acc` which is not available. Available metrics are: loss,accuracy,val_loss,val_accuracy,lr\n"
     ]
    },
    {
     "name": "stderr",
     "output_type": "stream",
     "text": [
      "WARNING:tensorflow:Learning rate reduction is conditioned on metric `val_acc` which is not available. Available metrics are: loss,accuracy,val_loss,val_accuracy,lr\n"
     ]
    },
    {
     "name": "stdout",
     "output_type": "stream",
     "text": [
      "500/500 - 6s - loss: 0.0719 - accuracy: 0.9774 - val_loss: 0.0369 - val_accuracy: 0.9875 - lr: 2.9513e-08 - 6s/epoch - 12ms/step\n",
      "Epoch 88/100\n",
      "WARNING:tensorflow:Learning rate reduction is conditioned on metric `val_acc` which is not available. Available metrics are: loss,accuracy,val_loss,val_accuracy,lr\n"
     ]
    },
    {
     "name": "stderr",
     "output_type": "stream",
     "text": [
      "WARNING:tensorflow:Learning rate reduction is conditioned on metric `val_acc` which is not available. Available metrics are: loss,accuracy,val_loss,val_accuracy,lr\n"
     ]
    },
    {
     "name": "stdout",
     "output_type": "stream",
     "text": [
      "500/500 - 6s - loss: 0.0768 - accuracy: 0.9781 - val_loss: 0.0369 - val_accuracy: 0.9875 - lr: 2.9513e-08 - 6s/epoch - 13ms/step\n",
      "Epoch 89/100\n",
      "WARNING:tensorflow:Learning rate reduction is conditioned on metric `val_acc` which is not available. Available metrics are: loss,accuracy,val_loss,val_accuracy,lr\n"
     ]
    },
    {
     "name": "stderr",
     "output_type": "stream",
     "text": [
      "WARNING:tensorflow:Learning rate reduction is conditioned on metric `val_acc` which is not available. Available metrics are: loss,accuracy,val_loss,val_accuracy,lr\n"
     ]
    },
    {
     "name": "stdout",
     "output_type": "stream",
     "text": [
      "500/500 - 6s - loss: 0.0750 - accuracy: 0.9784 - val_loss: 0.0369 - val_accuracy: 0.9875 - lr: 2.9513e-08 - 6s/epoch - 13ms/step\n",
      "Epoch 90/100\n",
      "WARNING:tensorflow:Learning rate reduction is conditioned on metric `val_acc` which is not available. Available metrics are: loss,accuracy,val_loss,val_accuracy,lr\n"
     ]
    },
    {
     "name": "stderr",
     "output_type": "stream",
     "text": [
      "WARNING:tensorflow:Learning rate reduction is conditioned on metric `val_acc` which is not available. Available metrics are: loss,accuracy,val_loss,val_accuracy,lr\n"
     ]
    },
    {
     "name": "stdout",
     "output_type": "stream",
     "text": [
      "500/500 - 6s - loss: 0.0711 - accuracy: 0.9805 - val_loss: 0.0369 - val_accuracy: 0.9875 - lr: 2.9513e-08 - 6s/epoch - 13ms/step\n",
      "Epoch 91/100\n",
      "WARNING:tensorflow:Learning rate reduction is conditioned on metric `val_acc` which is not available. Available metrics are: loss,accuracy,val_loss,val_accuracy,lr\n"
     ]
    },
    {
     "name": "stderr",
     "output_type": "stream",
     "text": [
      "WARNING:tensorflow:Learning rate reduction is conditioned on metric `val_acc` which is not available. Available metrics are: loss,accuracy,val_loss,val_accuracy,lr\n"
     ]
    },
    {
     "name": "stdout",
     "output_type": "stream",
     "text": [
      "500/500 - 6s - loss: 0.0619 - accuracy: 0.9812 - val_loss: 0.0369 - val_accuracy: 0.9875 - lr: 2.9513e-08 - 6s/epoch - 13ms/step\n",
      "Epoch 92/100\n",
      "WARNING:tensorflow:Learning rate reduction is conditioned on metric `val_acc` which is not available. Available metrics are: loss,accuracy,val_loss,val_accuracy,lr\n"
     ]
    },
    {
     "name": "stderr",
     "output_type": "stream",
     "text": [
      "WARNING:tensorflow:Learning rate reduction is conditioned on metric `val_acc` which is not available. Available metrics are: loss,accuracy,val_loss,val_accuracy,lr\n"
     ]
    },
    {
     "name": "stdout",
     "output_type": "stream",
     "text": [
      "500/500 - 6s - loss: 0.0669 - accuracy: 0.9821 - val_loss: 0.0369 - val_accuracy: 0.9875 - lr: 2.9513e-08 - 6s/epoch - 13ms/step\n",
      "Epoch 93/100\n",
      "WARNING:tensorflow:Learning rate reduction is conditioned on metric `val_acc` which is not available. Available metrics are: loss,accuracy,val_loss,val_accuracy,lr\n"
     ]
    },
    {
     "name": "stderr",
     "output_type": "stream",
     "text": [
      "WARNING:tensorflow:Learning rate reduction is conditioned on metric `val_acc` which is not available. Available metrics are: loss,accuracy,val_loss,val_accuracy,lr\n"
     ]
    },
    {
     "name": "stdout",
     "output_type": "stream",
     "text": [
      "500/500 - 6s - loss: 0.0705 - accuracy: 0.9795 - val_loss: 0.0369 - val_accuracy: 0.9875 - lr: 2.9513e-08 - 6s/epoch - 13ms/step\n",
      "Epoch 94/100\n",
      "WARNING:tensorflow:Learning rate reduction is conditioned on metric `val_acc` which is not available. Available metrics are: loss,accuracy,val_loss,val_accuracy,lr\n"
     ]
    },
    {
     "name": "stderr",
     "output_type": "stream",
     "text": [
      "WARNING:tensorflow:Learning rate reduction is conditioned on metric `val_acc` which is not available. Available metrics are: loss,accuracy,val_loss,val_accuracy,lr\n"
     ]
    },
    {
     "name": "stdout",
     "output_type": "stream",
     "text": [
      "500/500 - 6s - loss: 0.0821 - accuracy: 0.9751 - val_loss: 0.0369 - val_accuracy: 0.9875 - lr: 2.9513e-08 - 6s/epoch - 13ms/step\n",
      "Epoch 95/100\n",
      "WARNING:tensorflow:Learning rate reduction is conditioned on metric `val_acc` which is not available. Available metrics are: loss,accuracy,val_loss,val_accuracy,lr\n"
     ]
    },
    {
     "name": "stderr",
     "output_type": "stream",
     "text": [
      "WARNING:tensorflow:Learning rate reduction is conditioned on metric `val_acc` which is not available. Available metrics are: loss,accuracy,val_loss,val_accuracy,lr\n"
     ]
    },
    {
     "name": "stdout",
     "output_type": "stream",
     "text": [
      "500/500 - 6s - loss: 0.0742 - accuracy: 0.9774 - val_loss: 0.0368 - val_accuracy: 0.9875 - lr: 2.9513e-08 - 6s/epoch - 13ms/step\n",
      "Epoch 96/100\n",
      "WARNING:tensorflow:Learning rate reduction is conditioned on metric `val_acc` which is not available. Available metrics are: loss,accuracy,val_loss,val_accuracy,lr\n"
     ]
    },
    {
     "name": "stderr",
     "output_type": "stream",
     "text": [
      "WARNING:tensorflow:Learning rate reduction is conditioned on metric `val_acc` which is not available. Available metrics are: loss,accuracy,val_loss,val_accuracy,lr\n"
     ]
    },
    {
     "name": "stdout",
     "output_type": "stream",
     "text": [
      "500/500 - 6s - loss: 0.0684 - accuracy: 0.9784 - val_loss: 0.0368 - val_accuracy: 0.9875 - lr: 2.9513e-08 - 6s/epoch - 13ms/step\n",
      "Epoch 97/100\n",
      "WARNING:tensorflow:Learning rate reduction is conditioned on metric `val_acc` which is not available. Available metrics are: loss,accuracy,val_loss,val_accuracy,lr\n"
     ]
    },
    {
     "name": "stderr",
     "output_type": "stream",
     "text": [
      "WARNING:tensorflow:Learning rate reduction is conditioned on metric `val_acc` which is not available. Available metrics are: loss,accuracy,val_loss,val_accuracy,lr\n"
     ]
    },
    {
     "name": "stdout",
     "output_type": "stream",
     "text": [
      "500/500 - 6s - loss: 0.0584 - accuracy: 0.9818 - val_loss: 0.0369 - val_accuracy: 0.9875 - lr: 2.9513e-08 - 6s/epoch - 13ms/step\n",
      "Epoch 98/100\n",
      "WARNING:tensorflow:Learning rate reduction is conditioned on metric `val_acc` which is not available. Available metrics are: loss,accuracy,val_loss,val_accuracy,lr\n"
     ]
    },
    {
     "name": "stderr",
     "output_type": "stream",
     "text": [
      "WARNING:tensorflow:Learning rate reduction is conditioned on metric `val_acc` which is not available. Available metrics are: loss,accuracy,val_loss,val_accuracy,lr\n"
     ]
    },
    {
     "name": "stdout",
     "output_type": "stream",
     "text": [
      "500/500 - 6s - loss: 0.0710 - accuracy: 0.9805 - val_loss: 0.0369 - val_accuracy: 0.9875 - lr: 2.9513e-08 - 6s/epoch - 13ms/step\n",
      "Epoch 99/100\n",
      "WARNING:tensorflow:Learning rate reduction is conditioned on metric `val_acc` which is not available. Available metrics are: loss,accuracy,val_loss,val_accuracy,lr\n"
     ]
    },
    {
     "name": "stderr",
     "output_type": "stream",
     "text": [
      "WARNING:tensorflow:Learning rate reduction is conditioned on metric `val_acc` which is not available. Available metrics are: loss,accuracy,val_loss,val_accuracy,lr\n"
     ]
    },
    {
     "name": "stdout",
     "output_type": "stream",
     "text": [
      "500/500 - 6s - loss: 0.0694 - accuracy: 0.9808 - val_loss: 0.0368 - val_accuracy: 0.9875 - lr: 2.9513e-08 - 6s/epoch - 13ms/step\n",
      "Epoch 100/100\n",
      "WARNING:tensorflow:Learning rate reduction is conditioned on metric `val_acc` which is not available. Available metrics are: loss,accuracy,val_loss,val_accuracy,lr\n"
     ]
    },
    {
     "name": "stderr",
     "output_type": "stream",
     "text": [
      "WARNING:tensorflow:Learning rate reduction is conditioned on metric `val_acc` which is not available. Available metrics are: loss,accuracy,val_loss,val_accuracy,lr\n"
     ]
    },
    {
     "name": "stdout",
     "output_type": "stream",
     "text": [
      "500/500 - 6s - loss: 0.0777 - accuracy: 0.9801 - val_loss: 0.0368 - val_accuracy: 0.9875 - lr: 2.9513e-08 - 6s/epoch - 13ms/step\n"
     ]
    }
   ],
   "source": [
    "hist = model.fit_generator(datagen.flow(x_train, y_train, batch_size=16),\n",
    "                          steps_per_epoch=500,\n",
    "                          epochs=100, #Increase this when not on Kaggle kernel\n",
    "                          verbose=2,  #1 for ETA, 0 for silent\n",
    "                          validation_data=(x_val[:400,:], y_val[:400,:]), #For speed\n",
    "                          callbacks=[learning_rate_reduction])"
   ]
  },
  {
   "cell_type": "code",
   "execution_count": 173,
   "id": "780d8d3b-924c-4716-8841-11e5ef9b22d7",
   "metadata": {},
   "outputs": [
    {
     "name": "stdout",
     "output_type": "stream",
     "text": [
      "Final loss: 0.0409, final accuracy: 0.9883\n"
     ]
    }
   ],
   "source": [
    "final_loss, final_acc = model.evaluate(x_val, y_val, verbose=0)\n",
    "print(\"Final loss: {0:.4f}, final accuracy: {1:.4f}\".format(final_loss, final_acc))"
   ]
  },
  {
   "cell_type": "code",
   "execution_count": 160,
   "id": "013b9def-9c5a-4470-b923-828e8aad65bc",
   "metadata": {},
   "outputs": [
    {
     "name": "stdout",
     "output_type": "stream",
     "text": [
      "132/132 [==============================] - 1s 5ms/step\n",
      "[[435   0   1   0   0   0   2   0   2   0]\n",
      " [  0 492   1   0   0   0   0   2   0   0]\n",
      " [  0   0 382   0   0   0   0   5   2   0]\n",
      " [  0   0   0 409   0   1   0   0   1   0]\n",
      " [  0   1   0   0 382   0   0   1   0   5]\n",
      " [  0   0   0   0   0 364   0   0   1   0]\n",
      " [  0   1   0   0   1   0 415   0   0   0]\n",
      " [  0   0   2   1   2   0   0 427   0   4]\n",
      " [  0   0   1   0   0   0   1   1 420   3]\n",
      " [  1   0   0   0   3   0   0   2   1 425]]\n"
     ]
    }
   ],
   "source": [
    "y_hat = model.predict(x_val)\n",
    "y_pred = np.argmax(y_hat, axis=1)\n",
    "y_true = np.argmax(y_val, axis=1)\n",
    "cm = confusion_matrix(y_true, y_pred)\n",
    "print(cm)"
   ]
  },
  {
   "cell_type": "code",
   "execution_count": 162,
   "id": "2e6d4015-46e7-46f0-a80e-33040b8618f0",
   "metadata": {},
   "outputs": [
    {
     "name": "stdout",
     "output_type": "stream",
     "text": [
      "438/438 [==============================] - 4s 8ms/step\n"
     ]
    }
   ],
   "source": [
    "mnist_testset = test_file\n",
    "x_test = mnist_testset.astype(\"float32\")\n",
    "x_test = x_test.values.reshape(-1, 28, 28, 1)/255.\n",
    "\n",
    "y_hat = model.predict(x_test, batch_size=64)"
   ]
  },
  {
   "cell_type": "code",
   "execution_count": 164,
   "id": "0596cc71-e623-45b5-a660-33cb30bc0b78",
   "metadata": {},
   "outputs": [
    {
     "data": {
      "text/html": [
       "<div>\n",
       "<style scoped>\n",
       "    .dataframe tbody tr th:only-of-type {\n",
       "        vertical-align: middle;\n",
       "    }\n",
       "\n",
       "    .dataframe tbody tr th {\n",
       "        vertical-align: top;\n",
       "    }\n",
       "\n",
       "    .dataframe thead th {\n",
       "        text-align: right;\n",
       "    }\n",
       "</style>\n",
       "<table border=\"1\" class=\"dataframe\">\n",
       "  <thead>\n",
       "    <tr style=\"text-align: right;\">\n",
       "      <th></th>\n",
       "      <th>ImageId</th>\n",
       "      <th>Label</th>\n",
       "    </tr>\n",
       "  </thead>\n",
       "  <tbody>\n",
       "    <tr>\n",
       "      <th>0</th>\n",
       "      <td>1</td>\n",
       "      <td>0</td>\n",
       "    </tr>\n",
       "    <tr>\n",
       "      <th>1</th>\n",
       "      <td>2</td>\n",
       "      <td>0</td>\n",
       "    </tr>\n",
       "    <tr>\n",
       "      <th>2</th>\n",
       "      <td>3</td>\n",
       "      <td>0</td>\n",
       "    </tr>\n",
       "    <tr>\n",
       "      <th>3</th>\n",
       "      <td>4</td>\n",
       "      <td>0</td>\n",
       "    </tr>\n",
       "    <tr>\n",
       "      <th>4</th>\n",
       "      <td>5</td>\n",
       "      <td>0</td>\n",
       "    </tr>\n",
       "    <tr>\n",
       "      <th>...</th>\n",
       "      <td>...</td>\n",
       "      <td>...</td>\n",
       "    </tr>\n",
       "    <tr>\n",
       "      <th>27995</th>\n",
       "      <td>27996</td>\n",
       "      <td>0</td>\n",
       "    </tr>\n",
       "    <tr>\n",
       "      <th>27996</th>\n",
       "      <td>27997</td>\n",
       "      <td>0</td>\n",
       "    </tr>\n",
       "    <tr>\n",
       "      <th>27997</th>\n",
       "      <td>27998</td>\n",
       "      <td>0</td>\n",
       "    </tr>\n",
       "    <tr>\n",
       "      <th>27998</th>\n",
       "      <td>27999</td>\n",
       "      <td>0</td>\n",
       "    </tr>\n",
       "    <tr>\n",
       "      <th>27999</th>\n",
       "      <td>28000</td>\n",
       "      <td>0</td>\n",
       "    </tr>\n",
       "  </tbody>\n",
       "</table>\n",
       "<p>28000 rows × 2 columns</p>\n",
       "</div>"
      ],
      "text/plain": [
       "       ImageId  Label\n",
       "0            1      0\n",
       "1            2      0\n",
       "2            3      0\n",
       "3            4      0\n",
       "4            5      0\n",
       "...        ...    ...\n",
       "27995    27996      0\n",
       "27996    27997      0\n",
       "27997    27998      0\n",
       "27998    27999      0\n",
       "27999    28000      0\n",
       "\n",
       "[28000 rows x 2 columns]"
      ]
     },
     "execution_count": 164,
     "metadata": {},
     "output_type": "execute_result"
    }
   ],
   "source": [
    "output_file"
   ]
  },
  {
   "cell_type": "code",
   "execution_count": 166,
   "id": "2f0a6810-eed7-4ddf-9d39-638d6e7ec2f8",
   "metadata": {},
   "outputs": [
    {
     "data": {
      "text/plain": [
       "(28000,)"
      ]
     },
     "execution_count": 166,
     "metadata": {},
     "output_type": "execute_result"
    }
   ],
   "source": [
    "y_pred.shape"
   ]
  },
  {
   "cell_type": "code",
   "execution_count": 167,
   "id": "5d1b6598-514c-469e-b3f3-8956337a462c",
   "metadata": {},
   "outputs": [],
   "source": [
    "output_file['Label'] = y_pred"
   ]
  },
  {
   "cell_type": "code",
   "execution_count": 171,
   "id": "b5fcd4c2-620f-4afb-bcd9-713259fa8816",
   "metadata": {},
   "outputs": [],
   "source": [
    "output_file.to_csv('sub.csv', index=False, index_label=False)"
   ]
  },
  {
   "cell_type": "code",
   "execution_count": 116,
   "id": "27e2bcfb-126b-4dd0-8f3b-5f20a11f2b05",
   "metadata": {},
   "outputs": [
    {
     "name": "stdout",
     "output_type": "stream",
     "text": [
      "438/438 [==============================] - 3s 8ms/step\n"
     ]
    }
   ],
   "source": [
    "mnist_testset = test_file\n",
    "x_test = mnist_testset.astype(\"float32\")\n",
    "x_test = x_test.values.reshape(-1, 28, 28, 1)/255.\n",
    "\n",
    "y_hat = model.predict(x_test, batch_size=64)"
   ]
  },
  {
   "cell_type": "markdown",
   "id": "47a612aa-c03f-4211-a953-c41cedf678cd",
   "metadata": {},
   "source": [
    "# CNN"
   ]
  },
  {
   "cell_type": "code",
   "execution_count": 174,
   "id": "90a7fec4-2c30-4ef0-9efd-762c34d2006c",
   "metadata": {},
   "outputs": [],
   "source": [
    "nets = 3\n",
    "model1 = [0] *nets\n",
    "for j in range(nets):\n",
    "    model1[j] = Sequential()\n",
    "\n",
    "    model1[j].add(Conv2D(32, kernel_size = 3, activation='relu', input_shape = (28, 28, 1)))\n",
    "    model1[j].add(BatchNormalization())\n",
    "    model1[j].add(Conv2D(32, kernel_size = 3, activation='relu'))\n",
    "    model1[j].add(BatchNormalization())\n",
    "    model1[j].add(Conv2D(32, kernel_size = 5, strides=2, padding='same', activation='relu'))\n",
    "    model1[j].add(BatchNormalization())\n",
    "    model1[j].add(Dropout(0.4))\n",
    "\n",
    "    model1[j].add(Conv2D(64, kernel_size = 3, activation='relu'))\n",
    "    model1[j].add(BatchNormalization())\n",
    "    model1[j].add(Conv2D(64, kernel_size = 3, activation='relu'))\n",
    "    model1[j].add(BatchNormalization())\n",
    "    model1[j].add(Conv2D(64, kernel_size = 5, strides=2, padding='same', activation='relu'))\n",
    "    model1[j].add(BatchNormalization())\n",
    "    model1[j].add(Dropout(0.4))\n",
    "\n",
    "    model1[j].add(Conv2D(128, kernel_size = 4, activation='relu'))\n",
    "    model1[j].add(BatchNormalization())\n",
    "    model1[j].add(Flatten())\n",
    "    model1[j].add(Dropout(0.4))\n",
    "    model1[j].add(Dense(10, activation='softmax'))\n",
    "\n",
    "    model1[j].compile(optimizer=\"adam\", loss=\"categorical_crossentropy\", metrics=[\"accuracy\"])"
   ]
  },
  {
   "cell_type": "code",
   "execution_count": 176,
   "id": "fee63413-a3b7-43c6-a1a5-5228ef70ce3b",
   "metadata": {},
   "outputs": [
    {
     "name": "stderr",
     "output_type": "stream",
     "text": [
      "C:\\Users\\adiya\\AppData\\Local\\Temp\\ipykernel_19252\\520767837.py:6: UserWarning: `Model.fit_generator` is deprecated and will be removed in a future version. Please use `Model.fit`, which supports generators.\n",
      "  history[j] = model1[j].fit_generator(datagen.flow(X_train2,Y_train2, batch_size=64),\n"
     ]
    },
    {
     "name": "stdout",
     "output_type": "stream",
     "text": [
      "CNN 1: Epochs=2, Train accuracy=0.96384, Validation accuracy=0.98545\n"
     ]
    },
    {
     "ename": "KeyboardInterrupt",
     "evalue": "",
     "output_type": "error",
     "traceback": [
      "\u001b[1;31m---------------------------------------------------------------------------\u001b[0m",
      "\u001b[1;31mKeyboardInterrupt\u001b[0m                         Traceback (most recent call last)",
      "Cell \u001b[1;32mIn [176], line 6\u001b[0m\n\u001b[0;32m      4\u001b[0m \u001b[38;5;28;01mfor\u001b[39;00m j \u001b[38;5;129;01min\u001b[39;00m \u001b[38;5;28mrange\u001b[39m(nets):\n\u001b[0;32m      5\u001b[0m     X_train2, X_val2, Y_train2, Y_val2 \u001b[38;5;241m=\u001b[39m train_test_split(x_train, y_train, test_size \u001b[38;5;241m=\u001b[39m \u001b[38;5;241m0.1\u001b[39m)\n\u001b[1;32m----> 6\u001b[0m     history[j] \u001b[38;5;241m=\u001b[39m \u001b[43mmodel1\u001b[49m\u001b[43m[\u001b[49m\u001b[43mj\u001b[49m\u001b[43m]\u001b[49m\u001b[38;5;241;43m.\u001b[39;49m\u001b[43mfit_generator\u001b[49m\u001b[43m(\u001b[49m\u001b[43mdatagen\u001b[49m\u001b[38;5;241;43m.\u001b[39;49m\u001b[43mflow\u001b[49m\u001b[43m(\u001b[49m\u001b[43mX_train2\u001b[49m\u001b[43m,\u001b[49m\u001b[43mY_train2\u001b[49m\u001b[43m,\u001b[49m\u001b[43m \u001b[49m\u001b[43mbatch_size\u001b[49m\u001b[38;5;241;43m=\u001b[39;49m\u001b[38;5;241;43m64\u001b[39;49m\u001b[43m)\u001b[49m\u001b[43m,\u001b[49m\n\u001b[0;32m      7\u001b[0m \u001b[43m        \u001b[49m\u001b[43mepochs\u001b[49m\u001b[43m \u001b[49m\u001b[38;5;241;43m=\u001b[39;49m\u001b[43m \u001b[49m\u001b[43mepochs\u001b[49m\u001b[43m,\u001b[49m\u001b[43m \u001b[49m\u001b[43msteps_per_epoch\u001b[49m\u001b[43m \u001b[49m\u001b[38;5;241;43m=\u001b[39;49m\u001b[43m \u001b[49m\u001b[43mX_train2\u001b[49m\u001b[38;5;241;43m.\u001b[39;49m\u001b[43mshape\u001b[49m\u001b[43m[\u001b[49m\u001b[38;5;241;43m0\u001b[39;49m\u001b[43m]\u001b[49m\u001b[38;5;241;43m/\u001b[39;49m\u001b[38;5;241;43m/\u001b[39;49m\u001b[38;5;241;43m64\u001b[39;49m\u001b[43m,\u001b[49m\u001b[43m  \u001b[49m\n\u001b[0;32m      8\u001b[0m \u001b[43m        \u001b[49m\u001b[43mvalidation_data\u001b[49m\u001b[43m \u001b[49m\u001b[38;5;241;43m=\u001b[39;49m\u001b[43m \u001b[49m\u001b[43m(\u001b[49m\u001b[43mX_val2\u001b[49m\u001b[43m,\u001b[49m\u001b[43mY_val2\u001b[49m\u001b[43m)\u001b[49m\u001b[43m,\u001b[49m\u001b[43m \u001b[49m\u001b[43mcallbacks\u001b[49m\u001b[38;5;241;43m=\u001b[39;49m\u001b[43m[\u001b[49m\u001b[43mannealer\u001b[49m\u001b[43m]\u001b[49m\u001b[43m,\u001b[49m\u001b[43m \u001b[49m\u001b[43mverbose\u001b[49m\u001b[38;5;241;43m=\u001b[39;49m\u001b[38;5;241;43m0\u001b[39;49m\u001b[43m)\u001b[49m\n\u001b[0;32m     10\u001b[0m     \u001b[38;5;28mprint\u001b[39m(\u001b[38;5;124m\"\u001b[39m\u001b[38;5;124mCNN \u001b[39m\u001b[38;5;132;01m{0:d}\u001b[39;00m\u001b[38;5;124m: Epochs=\u001b[39m\u001b[38;5;132;01m{1:d}\u001b[39;00m\u001b[38;5;124m, Train accuracy=\u001b[39m\u001b[38;5;132;01m{2:.5f}\u001b[39;00m\u001b[38;5;124m, Validation accuracy=\u001b[39m\u001b[38;5;132;01m{3:.5f}\u001b[39;00m\u001b[38;5;124m\"\u001b[39m\u001b[38;5;241m.\u001b[39mformat(\n\u001b[0;32m     11\u001b[0m         j\u001b[38;5;241m+\u001b[39m\u001b[38;5;241m1\u001b[39m,epochs,\u001b[38;5;28mmax\u001b[39m(history[j]\u001b[38;5;241m.\u001b[39mhistory[\u001b[38;5;124m'\u001b[39m\u001b[38;5;124maccuracy\u001b[39m\u001b[38;5;124m'\u001b[39m]),\u001b[38;5;28mmax\u001b[39m(history[j]\u001b[38;5;241m.\u001b[39mhistory[\u001b[38;5;124m'\u001b[39m\u001b[38;5;124mval_accuracy\u001b[39m\u001b[38;5;124m'\u001b[39m]) ))\n",
      "File \u001b[1;32m~\\OneDrive\\Desktop\\ML\\venv\\lib\\site-packages\\keras\\src\\engine\\training.py:2913\u001b[0m, in \u001b[0;36mModel.fit_generator\u001b[1;34m(self, generator, steps_per_epoch, epochs, verbose, callbacks, validation_data, validation_steps, validation_freq, class_weight, max_queue_size, workers, use_multiprocessing, shuffle, initial_epoch)\u001b[0m\n\u001b[0;32m   2901\u001b[0m \u001b[38;5;124;03m\"\"\"Fits the model on data yielded batch-by-batch by a Python generator.\u001b[39;00m\n\u001b[0;32m   2902\u001b[0m \n\u001b[0;32m   2903\u001b[0m \u001b[38;5;124;03mDEPRECATED:\u001b[39;00m\n\u001b[0;32m   2904\u001b[0m \u001b[38;5;124;03m  `Model.fit` now supports generators, so there is no longer any need to\u001b[39;00m\n\u001b[0;32m   2905\u001b[0m \u001b[38;5;124;03m  use this endpoint.\u001b[39;00m\n\u001b[0;32m   2906\u001b[0m \u001b[38;5;124;03m\"\"\"\u001b[39;00m\n\u001b[0;32m   2907\u001b[0m warnings\u001b[38;5;241m.\u001b[39mwarn(\n\u001b[0;32m   2908\u001b[0m     \u001b[38;5;124m\"\u001b[39m\u001b[38;5;124m`Model.fit_generator` is deprecated and \u001b[39m\u001b[38;5;124m\"\u001b[39m\n\u001b[0;32m   2909\u001b[0m     \u001b[38;5;124m\"\u001b[39m\u001b[38;5;124mwill be removed in a future version. \u001b[39m\u001b[38;5;124m\"\u001b[39m\n\u001b[0;32m   2910\u001b[0m     \u001b[38;5;124m\"\u001b[39m\u001b[38;5;124mPlease use `Model.fit`, which supports generators.\u001b[39m\u001b[38;5;124m\"\u001b[39m,\n\u001b[0;32m   2911\u001b[0m     stacklevel\u001b[38;5;241m=\u001b[39m\u001b[38;5;241m2\u001b[39m,\n\u001b[0;32m   2912\u001b[0m )\n\u001b[1;32m-> 2913\u001b[0m \u001b[38;5;28;01mreturn\u001b[39;00m \u001b[38;5;28;43mself\u001b[39;49m\u001b[38;5;241;43m.\u001b[39;49m\u001b[43mfit\u001b[49m\u001b[43m(\u001b[49m\n\u001b[0;32m   2914\u001b[0m \u001b[43m    \u001b[49m\u001b[43mgenerator\u001b[49m\u001b[43m,\u001b[49m\n\u001b[0;32m   2915\u001b[0m \u001b[43m    \u001b[49m\u001b[43msteps_per_epoch\u001b[49m\u001b[38;5;241;43m=\u001b[39;49m\u001b[43msteps_per_epoch\u001b[49m\u001b[43m,\u001b[49m\n\u001b[0;32m   2916\u001b[0m \u001b[43m    \u001b[49m\u001b[43mepochs\u001b[49m\u001b[38;5;241;43m=\u001b[39;49m\u001b[43mepochs\u001b[49m\u001b[43m,\u001b[49m\n\u001b[0;32m   2917\u001b[0m \u001b[43m    \u001b[49m\u001b[43mverbose\u001b[49m\u001b[38;5;241;43m=\u001b[39;49m\u001b[43mverbose\u001b[49m\u001b[43m,\u001b[49m\n\u001b[0;32m   2918\u001b[0m \u001b[43m    \u001b[49m\u001b[43mcallbacks\u001b[49m\u001b[38;5;241;43m=\u001b[39;49m\u001b[43mcallbacks\u001b[49m\u001b[43m,\u001b[49m\n\u001b[0;32m   2919\u001b[0m \u001b[43m    \u001b[49m\u001b[43mvalidation_data\u001b[49m\u001b[38;5;241;43m=\u001b[39;49m\u001b[43mvalidation_data\u001b[49m\u001b[43m,\u001b[49m\n\u001b[0;32m   2920\u001b[0m \u001b[43m    \u001b[49m\u001b[43mvalidation_steps\u001b[49m\u001b[38;5;241;43m=\u001b[39;49m\u001b[43mvalidation_steps\u001b[49m\u001b[43m,\u001b[49m\n\u001b[0;32m   2921\u001b[0m \u001b[43m    \u001b[49m\u001b[43mvalidation_freq\u001b[49m\u001b[38;5;241;43m=\u001b[39;49m\u001b[43mvalidation_freq\u001b[49m\u001b[43m,\u001b[49m\n\u001b[0;32m   2922\u001b[0m \u001b[43m    \u001b[49m\u001b[43mclass_weight\u001b[49m\u001b[38;5;241;43m=\u001b[39;49m\u001b[43mclass_weight\u001b[49m\u001b[43m,\u001b[49m\n\u001b[0;32m   2923\u001b[0m \u001b[43m    \u001b[49m\u001b[43mmax_queue_size\u001b[49m\u001b[38;5;241;43m=\u001b[39;49m\u001b[43mmax_queue_size\u001b[49m\u001b[43m,\u001b[49m\n\u001b[0;32m   2924\u001b[0m \u001b[43m    \u001b[49m\u001b[43mworkers\u001b[49m\u001b[38;5;241;43m=\u001b[39;49m\u001b[43mworkers\u001b[49m\u001b[43m,\u001b[49m\n\u001b[0;32m   2925\u001b[0m \u001b[43m    \u001b[49m\u001b[43muse_multiprocessing\u001b[49m\u001b[38;5;241;43m=\u001b[39;49m\u001b[43muse_multiprocessing\u001b[49m\u001b[43m,\u001b[49m\n\u001b[0;32m   2926\u001b[0m \u001b[43m    \u001b[49m\u001b[43mshuffle\u001b[49m\u001b[38;5;241;43m=\u001b[39;49m\u001b[43mshuffle\u001b[49m\u001b[43m,\u001b[49m\n\u001b[0;32m   2927\u001b[0m \u001b[43m    \u001b[49m\u001b[43minitial_epoch\u001b[49m\u001b[38;5;241;43m=\u001b[39;49m\u001b[43minitial_epoch\u001b[49m\u001b[43m,\u001b[49m\n\u001b[0;32m   2928\u001b[0m \u001b[43m\u001b[49m\u001b[43m)\u001b[49m\n",
      "File \u001b[1;32m~\\OneDrive\\Desktop\\ML\\venv\\lib\\site-packages\\keras\\src\\utils\\traceback_utils.py:65\u001b[0m, in \u001b[0;36mfilter_traceback.<locals>.error_handler\u001b[1;34m(*args, **kwargs)\u001b[0m\n\u001b[0;32m     63\u001b[0m filtered_tb \u001b[38;5;241m=\u001b[39m \u001b[38;5;28;01mNone\u001b[39;00m\n\u001b[0;32m     64\u001b[0m \u001b[38;5;28;01mtry\u001b[39;00m:\n\u001b[1;32m---> 65\u001b[0m     \u001b[38;5;28;01mreturn\u001b[39;00m fn(\u001b[38;5;241m*\u001b[39margs, \u001b[38;5;241m*\u001b[39m\u001b[38;5;241m*\u001b[39mkwargs)\n\u001b[0;32m     66\u001b[0m \u001b[38;5;28;01mexcept\u001b[39;00m \u001b[38;5;167;01mException\u001b[39;00m \u001b[38;5;28;01mas\u001b[39;00m e:\n\u001b[0;32m     67\u001b[0m     filtered_tb \u001b[38;5;241m=\u001b[39m _process_traceback_frames(e\u001b[38;5;241m.\u001b[39m__traceback__)\n",
      "File \u001b[1;32m~\\OneDrive\\Desktop\\ML\\venv\\lib\\site-packages\\keras\\src\\engine\\training.py:1807\u001b[0m, in \u001b[0;36mModel.fit\u001b[1;34m(self, x, y, batch_size, epochs, verbose, callbacks, validation_split, validation_data, shuffle, class_weight, sample_weight, initial_epoch, steps_per_epoch, validation_steps, validation_batch_size, validation_freq, max_queue_size, workers, use_multiprocessing)\u001b[0m\n\u001b[0;32m   1799\u001b[0m \u001b[38;5;28;01mwith\u001b[39;00m tf\u001b[38;5;241m.\u001b[39mprofiler\u001b[38;5;241m.\u001b[39mexperimental\u001b[38;5;241m.\u001b[39mTrace(\n\u001b[0;32m   1800\u001b[0m     \u001b[38;5;124m\"\u001b[39m\u001b[38;5;124mtrain\u001b[39m\u001b[38;5;124m\"\u001b[39m,\n\u001b[0;32m   1801\u001b[0m     epoch_num\u001b[38;5;241m=\u001b[39mepoch,\n\u001b[1;32m   (...)\u001b[0m\n\u001b[0;32m   1804\u001b[0m     _r\u001b[38;5;241m=\u001b[39m\u001b[38;5;241m1\u001b[39m,\n\u001b[0;32m   1805\u001b[0m ):\n\u001b[0;32m   1806\u001b[0m     callbacks\u001b[38;5;241m.\u001b[39mon_train_batch_begin(step)\n\u001b[1;32m-> 1807\u001b[0m     tmp_logs \u001b[38;5;241m=\u001b[39m \u001b[38;5;28;43mself\u001b[39;49m\u001b[38;5;241;43m.\u001b[39;49m\u001b[43mtrain_function\u001b[49m\u001b[43m(\u001b[49m\u001b[43miterator\u001b[49m\u001b[43m)\u001b[49m\n\u001b[0;32m   1808\u001b[0m     \u001b[38;5;28;01mif\u001b[39;00m data_handler\u001b[38;5;241m.\u001b[39mshould_sync:\n\u001b[0;32m   1809\u001b[0m         context\u001b[38;5;241m.\u001b[39masync_wait()\n",
      "File \u001b[1;32m~\\OneDrive\\Desktop\\ML\\venv\\lib\\site-packages\\tensorflow\\python\\util\\traceback_utils.py:150\u001b[0m, in \u001b[0;36mfilter_traceback.<locals>.error_handler\u001b[1;34m(*args, **kwargs)\u001b[0m\n\u001b[0;32m    148\u001b[0m filtered_tb \u001b[38;5;241m=\u001b[39m \u001b[38;5;28;01mNone\u001b[39;00m\n\u001b[0;32m    149\u001b[0m \u001b[38;5;28;01mtry\u001b[39;00m:\n\u001b[1;32m--> 150\u001b[0m   \u001b[38;5;28;01mreturn\u001b[39;00m fn(\u001b[38;5;241m*\u001b[39margs, \u001b[38;5;241m*\u001b[39m\u001b[38;5;241m*\u001b[39mkwargs)\n\u001b[0;32m    151\u001b[0m \u001b[38;5;28;01mexcept\u001b[39;00m \u001b[38;5;167;01mException\u001b[39;00m \u001b[38;5;28;01mas\u001b[39;00m e:\n\u001b[0;32m    152\u001b[0m   filtered_tb \u001b[38;5;241m=\u001b[39m _process_traceback_frames(e\u001b[38;5;241m.\u001b[39m__traceback__)\n",
      "File \u001b[1;32m~\\OneDrive\\Desktop\\ML\\venv\\lib\\site-packages\\tensorflow\\python\\eager\\polymorphic_function\\polymorphic_function.py:832\u001b[0m, in \u001b[0;36mFunction.__call__\u001b[1;34m(self, *args, **kwds)\u001b[0m\n\u001b[0;32m    829\u001b[0m compiler \u001b[38;5;241m=\u001b[39m \u001b[38;5;124m\"\u001b[39m\u001b[38;5;124mxla\u001b[39m\u001b[38;5;124m\"\u001b[39m \u001b[38;5;28;01mif\u001b[39;00m \u001b[38;5;28mself\u001b[39m\u001b[38;5;241m.\u001b[39m_jit_compile \u001b[38;5;28;01melse\u001b[39;00m \u001b[38;5;124m\"\u001b[39m\u001b[38;5;124mnonXla\u001b[39m\u001b[38;5;124m\"\u001b[39m\n\u001b[0;32m    831\u001b[0m \u001b[38;5;28;01mwith\u001b[39;00m OptionalXlaContext(\u001b[38;5;28mself\u001b[39m\u001b[38;5;241m.\u001b[39m_jit_compile):\n\u001b[1;32m--> 832\u001b[0m   result \u001b[38;5;241m=\u001b[39m \u001b[38;5;28mself\u001b[39m\u001b[38;5;241m.\u001b[39m_call(\u001b[38;5;241m*\u001b[39margs, \u001b[38;5;241m*\u001b[39m\u001b[38;5;241m*\u001b[39mkwds)\n\u001b[0;32m    834\u001b[0m new_tracing_count \u001b[38;5;241m=\u001b[39m \u001b[38;5;28mself\u001b[39m\u001b[38;5;241m.\u001b[39mexperimental_get_tracing_count()\n\u001b[0;32m    835\u001b[0m without_tracing \u001b[38;5;241m=\u001b[39m (tracing_count \u001b[38;5;241m==\u001b[39m new_tracing_count)\n",
      "File \u001b[1;32m~\\OneDrive\\Desktop\\ML\\venv\\lib\\site-packages\\tensorflow\\python\\eager\\polymorphic_function\\polymorphic_function.py:868\u001b[0m, in \u001b[0;36mFunction._call\u001b[1;34m(self, *args, **kwds)\u001b[0m\n\u001b[0;32m    865\u001b[0m   \u001b[38;5;28mself\u001b[39m\u001b[38;5;241m.\u001b[39m_lock\u001b[38;5;241m.\u001b[39mrelease()\n\u001b[0;32m    866\u001b[0m   \u001b[38;5;66;03m# In this case we have created variables on the first call, so we run the\u001b[39;00m\n\u001b[0;32m    867\u001b[0m   \u001b[38;5;66;03m# defunned version which is guaranteed to never create variables.\u001b[39;00m\n\u001b[1;32m--> 868\u001b[0m   \u001b[38;5;28;01mreturn\u001b[39;00m \u001b[43mtracing_compilation\u001b[49m\u001b[38;5;241;43m.\u001b[39;49m\u001b[43mcall_function\u001b[49m\u001b[43m(\u001b[49m\n\u001b[0;32m    869\u001b[0m \u001b[43m      \u001b[49m\u001b[43margs\u001b[49m\u001b[43m,\u001b[49m\u001b[43m \u001b[49m\u001b[43mkwds\u001b[49m\u001b[43m,\u001b[49m\u001b[43m \u001b[49m\u001b[38;5;28;43mself\u001b[39;49m\u001b[38;5;241;43m.\u001b[39;49m\u001b[43m_no_variable_creation_config\u001b[49m\n\u001b[0;32m    870\u001b[0m \u001b[43m  \u001b[49m\u001b[43m)\u001b[49m\n\u001b[0;32m    871\u001b[0m \u001b[38;5;28;01melif\u001b[39;00m \u001b[38;5;28mself\u001b[39m\u001b[38;5;241m.\u001b[39m_variable_creation_config \u001b[38;5;129;01mis\u001b[39;00m \u001b[38;5;129;01mnot\u001b[39;00m \u001b[38;5;28;01mNone\u001b[39;00m:\n\u001b[0;32m    872\u001b[0m   \u001b[38;5;66;03m# Release the lock early so that multiple threads can perform the call\u001b[39;00m\n\u001b[0;32m    873\u001b[0m   \u001b[38;5;66;03m# in parallel.\u001b[39;00m\n\u001b[0;32m    874\u001b[0m   \u001b[38;5;28mself\u001b[39m\u001b[38;5;241m.\u001b[39m_lock\u001b[38;5;241m.\u001b[39mrelease()\n",
      "File \u001b[1;32m~\\OneDrive\\Desktop\\ML\\venv\\lib\\site-packages\\tensorflow\\python\\eager\\polymorphic_function\\tracing_compilation.py:139\u001b[0m, in \u001b[0;36mcall_function\u001b[1;34m(args, kwargs, tracing_options)\u001b[0m\n\u001b[0;32m    137\u001b[0m bound_args \u001b[38;5;241m=\u001b[39m function\u001b[38;5;241m.\u001b[39mfunction_type\u001b[38;5;241m.\u001b[39mbind(\u001b[38;5;241m*\u001b[39margs, \u001b[38;5;241m*\u001b[39m\u001b[38;5;241m*\u001b[39mkwargs)\n\u001b[0;32m    138\u001b[0m flat_inputs \u001b[38;5;241m=\u001b[39m function\u001b[38;5;241m.\u001b[39mfunction_type\u001b[38;5;241m.\u001b[39munpack_inputs(bound_args)\n\u001b[1;32m--> 139\u001b[0m \u001b[38;5;28;01mreturn\u001b[39;00m \u001b[43mfunction\u001b[49m\u001b[38;5;241;43m.\u001b[39;49m\u001b[43m_call_flat\u001b[49m\u001b[43m(\u001b[49m\u001b[43m  \u001b[49m\u001b[38;5;66;43;03m# pylint: disable=protected-access\u001b[39;49;00m\n\u001b[0;32m    140\u001b[0m \u001b[43m    \u001b[49m\u001b[43mflat_inputs\u001b[49m\u001b[43m,\u001b[49m\u001b[43m \u001b[49m\u001b[43mcaptured_inputs\u001b[49m\u001b[38;5;241;43m=\u001b[39;49m\u001b[43mfunction\u001b[49m\u001b[38;5;241;43m.\u001b[39;49m\u001b[43mcaptured_inputs\u001b[49m\n\u001b[0;32m    141\u001b[0m \u001b[43m\u001b[49m\u001b[43m)\u001b[49m\n",
      "File \u001b[1;32m~\\OneDrive\\Desktop\\ML\\venv\\lib\\site-packages\\tensorflow\\python\\eager\\polymorphic_function\\concrete_function.py:1323\u001b[0m, in \u001b[0;36mConcreteFunction._call_flat\u001b[1;34m(self, tensor_inputs, captured_inputs)\u001b[0m\n\u001b[0;32m   1319\u001b[0m possible_gradient_type \u001b[38;5;241m=\u001b[39m gradients_util\u001b[38;5;241m.\u001b[39mPossibleTapeGradientTypes(args)\n\u001b[0;32m   1320\u001b[0m \u001b[38;5;28;01mif\u001b[39;00m (possible_gradient_type \u001b[38;5;241m==\u001b[39m gradients_util\u001b[38;5;241m.\u001b[39mPOSSIBLE_GRADIENT_TYPES_NONE\n\u001b[0;32m   1321\u001b[0m     \u001b[38;5;129;01mand\u001b[39;00m executing_eagerly):\n\u001b[0;32m   1322\u001b[0m   \u001b[38;5;66;03m# No tape is watching; skip to running the function.\u001b[39;00m\n\u001b[1;32m-> 1323\u001b[0m   \u001b[38;5;28;01mreturn\u001b[39;00m \u001b[38;5;28;43mself\u001b[39;49m\u001b[38;5;241;43m.\u001b[39;49m\u001b[43m_inference_function\u001b[49m\u001b[38;5;241;43m.\u001b[39;49m\u001b[43mcall_preflattened\u001b[49m\u001b[43m(\u001b[49m\u001b[43margs\u001b[49m\u001b[43m)\u001b[49m\n\u001b[0;32m   1324\u001b[0m forward_backward \u001b[38;5;241m=\u001b[39m \u001b[38;5;28mself\u001b[39m\u001b[38;5;241m.\u001b[39m_select_forward_and_backward_functions(\n\u001b[0;32m   1325\u001b[0m     args,\n\u001b[0;32m   1326\u001b[0m     possible_gradient_type,\n\u001b[0;32m   1327\u001b[0m     executing_eagerly)\n\u001b[0;32m   1328\u001b[0m forward_function, args_with_tangents \u001b[38;5;241m=\u001b[39m forward_backward\u001b[38;5;241m.\u001b[39mforward()\n",
      "File \u001b[1;32m~\\OneDrive\\Desktop\\ML\\venv\\lib\\site-packages\\tensorflow\\python\\eager\\polymorphic_function\\atomic_function.py:216\u001b[0m, in \u001b[0;36mAtomicFunction.call_preflattened\u001b[1;34m(self, args)\u001b[0m\n\u001b[0;32m    214\u001b[0m \u001b[38;5;28;01mdef\u001b[39;00m \u001b[38;5;21mcall_preflattened\u001b[39m(\u001b[38;5;28mself\u001b[39m, args: Sequence[core\u001b[38;5;241m.\u001b[39mTensor]) \u001b[38;5;241m-\u001b[39m\u001b[38;5;241m>\u001b[39m Any:\n\u001b[0;32m    215\u001b[0m   \u001b[38;5;124;03m\"\"\"Calls with flattened tensor inputs and returns the structured output.\"\"\"\u001b[39;00m\n\u001b[1;32m--> 216\u001b[0m   flat_outputs \u001b[38;5;241m=\u001b[39m \u001b[38;5;28;43mself\u001b[39;49m\u001b[38;5;241;43m.\u001b[39;49m\u001b[43mcall_flat\u001b[49m\u001b[43m(\u001b[49m\u001b[38;5;241;43m*\u001b[39;49m\u001b[43margs\u001b[49m\u001b[43m)\u001b[49m\n\u001b[0;32m    217\u001b[0m   \u001b[38;5;28;01mreturn\u001b[39;00m \u001b[38;5;28mself\u001b[39m\u001b[38;5;241m.\u001b[39mfunction_type\u001b[38;5;241m.\u001b[39mpack_output(flat_outputs)\n",
      "File \u001b[1;32m~\\OneDrive\\Desktop\\ML\\venv\\lib\\site-packages\\tensorflow\\python\\eager\\polymorphic_function\\atomic_function.py:251\u001b[0m, in \u001b[0;36mAtomicFunction.call_flat\u001b[1;34m(self, *args)\u001b[0m\n\u001b[0;32m    249\u001b[0m \u001b[38;5;28;01mwith\u001b[39;00m record\u001b[38;5;241m.\u001b[39mstop_recording():\n\u001b[0;32m    250\u001b[0m   \u001b[38;5;28;01mif\u001b[39;00m \u001b[38;5;28mself\u001b[39m\u001b[38;5;241m.\u001b[39m_bound_context\u001b[38;5;241m.\u001b[39mexecuting_eagerly():\n\u001b[1;32m--> 251\u001b[0m     outputs \u001b[38;5;241m=\u001b[39m \u001b[38;5;28;43mself\u001b[39;49m\u001b[38;5;241;43m.\u001b[39;49m\u001b[43m_bound_context\u001b[49m\u001b[38;5;241;43m.\u001b[39;49m\u001b[43mcall_function\u001b[49m\u001b[43m(\u001b[49m\n\u001b[0;32m    252\u001b[0m \u001b[43m        \u001b[49m\u001b[38;5;28;43mself\u001b[39;49m\u001b[38;5;241;43m.\u001b[39;49m\u001b[43mname\u001b[49m\u001b[43m,\u001b[49m\n\u001b[0;32m    253\u001b[0m \u001b[43m        \u001b[49m\u001b[38;5;28;43mlist\u001b[39;49m\u001b[43m(\u001b[49m\u001b[43margs\u001b[49m\u001b[43m)\u001b[49m\u001b[43m,\u001b[49m\n\u001b[0;32m    254\u001b[0m \u001b[43m        \u001b[49m\u001b[38;5;28;43mlen\u001b[39;49m\u001b[43m(\u001b[49m\u001b[38;5;28;43mself\u001b[39;49m\u001b[38;5;241;43m.\u001b[39;49m\u001b[43mfunction_type\u001b[49m\u001b[38;5;241;43m.\u001b[39;49m\u001b[43mflat_outputs\u001b[49m\u001b[43m)\u001b[49m\u001b[43m,\u001b[49m\n\u001b[0;32m    255\u001b[0m \u001b[43m    \u001b[49m\u001b[43m)\u001b[49m\n\u001b[0;32m    256\u001b[0m   \u001b[38;5;28;01melse\u001b[39;00m:\n\u001b[0;32m    257\u001b[0m     outputs \u001b[38;5;241m=\u001b[39m make_call_op_in_graph(\n\u001b[0;32m    258\u001b[0m         \u001b[38;5;28mself\u001b[39m,\n\u001b[0;32m    259\u001b[0m         \u001b[38;5;28mlist\u001b[39m(args),\n\u001b[0;32m    260\u001b[0m         \u001b[38;5;28mself\u001b[39m\u001b[38;5;241m.\u001b[39m_bound_context\u001b[38;5;241m.\u001b[39mfunction_call_options\u001b[38;5;241m.\u001b[39mas_attrs(),\n\u001b[0;32m    261\u001b[0m     )\n",
      "File \u001b[1;32m~\\OneDrive\\Desktop\\ML\\venv\\lib\\site-packages\\tensorflow\\python\\eager\\context.py:1486\u001b[0m, in \u001b[0;36mContext.call_function\u001b[1;34m(self, name, tensor_inputs, num_outputs)\u001b[0m\n\u001b[0;32m   1484\u001b[0m cancellation_context \u001b[38;5;241m=\u001b[39m cancellation\u001b[38;5;241m.\u001b[39mcontext()\n\u001b[0;32m   1485\u001b[0m \u001b[38;5;28;01mif\u001b[39;00m cancellation_context \u001b[38;5;129;01mis\u001b[39;00m \u001b[38;5;28;01mNone\u001b[39;00m:\n\u001b[1;32m-> 1486\u001b[0m   outputs \u001b[38;5;241m=\u001b[39m \u001b[43mexecute\u001b[49m\u001b[38;5;241;43m.\u001b[39;49m\u001b[43mexecute\u001b[49m\u001b[43m(\u001b[49m\n\u001b[0;32m   1487\u001b[0m \u001b[43m      \u001b[49m\u001b[43mname\u001b[49m\u001b[38;5;241;43m.\u001b[39;49m\u001b[43mdecode\u001b[49m\u001b[43m(\u001b[49m\u001b[38;5;124;43m\"\u001b[39;49m\u001b[38;5;124;43mutf-8\u001b[39;49m\u001b[38;5;124;43m\"\u001b[39;49m\u001b[43m)\u001b[49m\u001b[43m,\u001b[49m\n\u001b[0;32m   1488\u001b[0m \u001b[43m      \u001b[49m\u001b[43mnum_outputs\u001b[49m\u001b[38;5;241;43m=\u001b[39;49m\u001b[43mnum_outputs\u001b[49m\u001b[43m,\u001b[49m\n\u001b[0;32m   1489\u001b[0m \u001b[43m      \u001b[49m\u001b[43minputs\u001b[49m\u001b[38;5;241;43m=\u001b[39;49m\u001b[43mtensor_inputs\u001b[49m\u001b[43m,\u001b[49m\n\u001b[0;32m   1490\u001b[0m \u001b[43m      \u001b[49m\u001b[43mattrs\u001b[49m\u001b[38;5;241;43m=\u001b[39;49m\u001b[43mattrs\u001b[49m\u001b[43m,\u001b[49m\n\u001b[0;32m   1491\u001b[0m \u001b[43m      \u001b[49m\u001b[43mctx\u001b[49m\u001b[38;5;241;43m=\u001b[39;49m\u001b[38;5;28;43mself\u001b[39;49m\u001b[43m,\u001b[49m\n\u001b[0;32m   1492\u001b[0m \u001b[43m  \u001b[49m\u001b[43m)\u001b[49m\n\u001b[0;32m   1493\u001b[0m \u001b[38;5;28;01melse\u001b[39;00m:\n\u001b[0;32m   1494\u001b[0m   outputs \u001b[38;5;241m=\u001b[39m execute\u001b[38;5;241m.\u001b[39mexecute_with_cancellation(\n\u001b[0;32m   1495\u001b[0m       name\u001b[38;5;241m.\u001b[39mdecode(\u001b[38;5;124m\"\u001b[39m\u001b[38;5;124mutf-8\u001b[39m\u001b[38;5;124m\"\u001b[39m),\n\u001b[0;32m   1496\u001b[0m       num_outputs\u001b[38;5;241m=\u001b[39mnum_outputs,\n\u001b[1;32m   (...)\u001b[0m\n\u001b[0;32m   1500\u001b[0m       cancellation_manager\u001b[38;5;241m=\u001b[39mcancellation_context,\n\u001b[0;32m   1501\u001b[0m   )\n",
      "File \u001b[1;32m~\\OneDrive\\Desktop\\ML\\venv\\lib\\site-packages\\tensorflow\\python\\eager\\execute.py:53\u001b[0m, in \u001b[0;36mquick_execute\u001b[1;34m(op_name, num_outputs, inputs, attrs, ctx, name)\u001b[0m\n\u001b[0;32m     51\u001b[0m \u001b[38;5;28;01mtry\u001b[39;00m:\n\u001b[0;32m     52\u001b[0m   ctx\u001b[38;5;241m.\u001b[39mensure_initialized()\n\u001b[1;32m---> 53\u001b[0m   tensors \u001b[38;5;241m=\u001b[39m \u001b[43mpywrap_tfe\u001b[49m\u001b[38;5;241;43m.\u001b[39;49m\u001b[43mTFE_Py_Execute\u001b[49m\u001b[43m(\u001b[49m\u001b[43mctx\u001b[49m\u001b[38;5;241;43m.\u001b[39;49m\u001b[43m_handle\u001b[49m\u001b[43m,\u001b[49m\u001b[43m \u001b[49m\u001b[43mdevice_name\u001b[49m\u001b[43m,\u001b[49m\u001b[43m \u001b[49m\u001b[43mop_name\u001b[49m\u001b[43m,\u001b[49m\n\u001b[0;32m     54\u001b[0m \u001b[43m                                      \u001b[49m\u001b[43minputs\u001b[49m\u001b[43m,\u001b[49m\u001b[43m \u001b[49m\u001b[43mattrs\u001b[49m\u001b[43m,\u001b[49m\u001b[43m \u001b[49m\u001b[43mnum_outputs\u001b[49m\u001b[43m)\u001b[49m\n\u001b[0;32m     55\u001b[0m \u001b[38;5;28;01mexcept\u001b[39;00m core\u001b[38;5;241m.\u001b[39m_NotOkStatusException \u001b[38;5;28;01mas\u001b[39;00m e:\n\u001b[0;32m     56\u001b[0m   \u001b[38;5;28;01mif\u001b[39;00m name \u001b[38;5;129;01mis\u001b[39;00m \u001b[38;5;129;01mnot\u001b[39;00m \u001b[38;5;28;01mNone\u001b[39;00m:\n",
      "\u001b[1;31mKeyboardInterrupt\u001b[0m: "
     ]
    }
   ],
   "source": [
    "annealer = LearningRateScheduler(lambda x: 1e-3 * 0.95 ** x)\n",
    "history = [0] * nets\n",
    "epochs = 2\n",
    "for j in range(nets):\n",
    "    X_train2, X_val2, Y_train2, Y_val2 = train_test_split(x_train, y_train, test_size = 0.1)\n",
    "    history[j] = model1[j].fit_generator(datagen.flow(X_train2,Y_train2, batch_size=64),\n",
    "        epochs = epochs, steps_per_epoch = X_train2.shape[0]//64,  \n",
    "        validation_data = (X_val2,Y_val2), callbacks=[annealer], verbose=0)\n",
    "    \n",
    "    print(\"CNN {0:d}: Epochs={1:d}, Train accuracy={2:.5f}, Validation accuracy={3:.5f}\".format(\n",
    "        j+1,epochs,max(history[j].history['accuracy']),max(history[j].history['val_accuracy']) ))"
   ]
  },
  {
   "cell_type": "code",
   "execution_count": null,
   "id": "1b785e3c-f43f-4769-b2e9-b682f2d78976",
   "metadata": {},
   "outputs": [],
   "source": []
  }
 ],
 "metadata": {
  "kernelspec": {
   "display_name": "Python 3 (ipykernel)",
   "language": "python",
   "name": "python3"
  },
  "language_info": {
   "codemirror_mode": {
    "name": "ipython",
    "version": 3
   },
   "file_extension": ".py",
   "mimetype": "text/x-python",
   "name": "python",
   "nbconvert_exporter": "python",
   "pygments_lexer": "ipython3",
   "version": "3.10.4"
  }
 },
 "nbformat": 4,
 "nbformat_minor": 5
}
